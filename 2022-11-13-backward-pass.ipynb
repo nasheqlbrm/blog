{
 "cells": [
  {
   "cell_type": "raw",
   "id": "9cf6eb17-f2dc-43e6-9c85-8dd054db328c",
   "metadata": {},
   "source": [
    "---\n",
    "categories: [neural-nets]\n",
    "date: '2021-11-13'\n",
    "description: Implementing the forward and backward pass for a simple neural net.\n",
    "output-file: 2021-08-12-multi-label-classification.html\n",
    "title: Backward Pass\n",
    "bibliography: ../references.bib\n",
    "csl: ../control-and-automation.csl\n",
    "toc: true\n",
    "use_math: true\n",
    "\n",
    "---"
   ]
  },
  {
   "cell_type": "markdown",
   "id": "57e8f7e8-cd05-43f4-a141-920b00ac8913",
   "metadata": {},
   "source": [
    "# Notation"
   ]
  },
  {
   "cell_type": "code",
   "execution_count": null,
   "id": "771dc8b0-cf3b-4bbe-8838-0d1e2ef0ada2",
   "metadata": {},
   "outputs": [],
   "source": []
  }
 ],
 "metadata": {
  "kernelspec": {
   "display_name": "Python 3 (ipykernel)",
   "language": "python",
   "name": "python3"
  },
  "language_info": {
   "codemirror_mode": {
    "name": "ipython",
    "version": 3
   },
   "file_extension": ".py",
   "mimetype": "text/x-python",
   "name": "python",
   "nbconvert_exporter": "python",
   "pygments_lexer": "ipython3",
   "version": "3.9.13"
  }
 },
 "nbformat": 4,
 "nbformat_minor": 5
}
