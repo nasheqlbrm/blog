{
 "cells": [
  {
   "cell_type": "raw",
   "metadata": {},
   "source": [
    "---\n",
    "aliases:\n",
    "- /bayesian/statistical-rethinking/2022/03/19/McElreath-Chapter-3\n",
    "badges: true\n",
    "categories:\n",
    "- statistical-rethinking\n",
    "- bayesian\n",
    "date: '2022-03-19'\n",
    "output-file: 2022-03-19-mcelreath-chapter-3.html\n",
    "title: McElreath Chapter 3\n",
    "bibliography: ../references.bib\n",
    "csl: ../control-and-automation.csl\n",
    "toc: false\n",
    "use_math: true\n",
    "\n",
    "---\n",
    "\n"
   ]
  },
  {
   "cell_type": "markdown",
   "metadata": {},
   "source": [
    "Exercise problems from Chapter 3, Sampling the Imaginary, of @mcelreath2020statistical."
   ]
  },
  {
   "cell_type": "code",
   "execution_count": null,
   "metadata": {},
   "outputs": [],
   "source": [
    "import arviz as az\n",
    "import numpy as np\n",
    "import pymc3 as pm\n",
    "\n",
    "from matplotlib import pylab as plt\n",
    "from scipy import stats"
   ]
  },
  {
   "cell_type": "code",
   "execution_count": null,
   "metadata": {},
   "outputs": [],
   "source": [
    "RANDOM_SEED = 8927\n",
    "np.random.seed(RANDOM_SEED)"
   ]
  },
  {
   "cell_type": "code",
   "execution_count": null,
   "metadata": {},
   "outputs": [],
   "source": [
    "def grid_approx(num_grid_points, successes, tosses):\n",
    "  p_grid = np.linspace( 0 , 1 , int(num_grid_points) )\n",
    "  prior = np.repeat( 1 , int(num_grid_points) ) # uniform prior\n",
    "  likelihood = stats.binom.pmf( k=successes , n=tosses , p=p_grid )\n",
    "  unstd_posterior = prior * likelihood\n",
    "  posterior = unstd_posterior / unstd_posterior.sum()\n",
    "  return p_grid, posterior"
   ]
  },
  {
   "cell_type": "code",
   "execution_count": null,
   "metadata": {},
   "outputs": [],
   "source": [
    "p_grid , posterior = grid_approx( 1000 , 6 , 9 )\n",
    "# Generate samples from the posterior\n",
    "samples = np.random.choice( p_grid , p=posterior , size=int(1e4) , replace=True )"
   ]
  },
  {
   "cell_type": "markdown",
   "metadata": {},
   "source": [
    "## 3E1\n",
    "\n",
    "From the samples, how much posterior probability lies below $p=0.2$?"
   ]
  },
  {
   "cell_type": "code",
   "execution_count": null,
   "metadata": {},
   "outputs": [
    {
     "data": {
      "text/plain": [
       "0.0008"
      ]
     },
     "execution_count": null,
     "metadata": {},
     "output_type": "execute_result"
    }
   ],
   "source": [
    "np.sum( samples < 0.2 ) /1e4 "
   ]
  },
  {
   "cell_type": "markdown",
   "metadata": {},
   "source": [
    "## 3E2\n",
    "\n",
    "From the samples, how much posterior probability lies above $p=0.8$?"
   ]
  },
  {
   "cell_type": "code",
   "execution_count": null,
   "metadata": {},
   "outputs": [
    {
     "data": {
      "text/plain": [
       "0.1243"
      ]
     },
     "execution_count": null,
     "metadata": {},
     "output_type": "execute_result"
    }
   ],
   "source": [
    "np.sum( samples > 0.8 ) /1e4 "
   ]
  },
  {
   "cell_type": "markdown",
   "metadata": {},
   "source": [
    "## 3E3\n",
    "\n",
    "From the samples, how much posterior probability lies between $p=0.2$ and $p=0.8$?"
   ]
  },
  {
   "cell_type": "code",
   "execution_count": null,
   "metadata": {},
   "outputs": [
    {
     "data": {
      "text/plain": [
       "0.8749"
      ]
     },
     "execution_count": null,
     "metadata": {},
     "output_type": "execute_result"
    }
   ],
   "source": [
    "np.sum( (samples > 0.2) & (samples < 0.8) ) /1e4 "
   ]
  },
  {
   "cell_type": "markdown",
   "metadata": {},
   "source": [
    "## 3E4\n",
    "\n",
    "From the samples, $20\\%$ of the posterior probability lies below which value of $p$?"
   ]
  },
  {
   "cell_type": "code",
   "execution_count": null,
   "metadata": {},
   "outputs": [
    {
     "data": {
      "text/plain": [
       "0.5175175175175175"
      ]
     },
     "execution_count": null,
     "metadata": {},
     "output_type": "execute_result"
    }
   ],
   "source": [
    "np.quantile( samples , 0.2 )"
   ]
  },
  {
   "cell_type": "markdown",
   "metadata": {},
   "source": [
    "## 3E5\n",
    "\n",
    "From the samples, $20\\%$ of the posterior probability lies above which value of $p$?"
   ]
  },
  {
   "cell_type": "code",
   "execution_count": null,
   "metadata": {},
   "outputs": [
    {
     "data": {
      "text/plain": [
       "0.7627627627627628"
      ]
     },
     "execution_count": null,
     "metadata": {},
     "output_type": "execute_result"
    }
   ],
   "source": [
    "np.quantile( samples , 0.8 )"
   ]
  },
  {
   "cell_type": "markdown",
   "metadata": {},
   "source": [
    "## 3E6\n",
    "\n",
    "Which values of $p$ contain the narrowest interval equal to $66\\%$ of the posterior probability?"
   ]
  },
  {
   "cell_type": "code",
   "execution_count": null,
   "metadata": {},
   "outputs": [
    {
     "data": {
      "text/plain": [
       "array([0.53053053, 0.8028028 ])"
      ]
     },
     "execution_count": null,
     "metadata": {},
     "output_type": "execute_result"
    }
   ],
   "source": [
    "az.hdi( samples , hdi_prob=0.66 )"
   ]
  },
  {
   "cell_type": "markdown",
   "metadata": {},
   "source": [
    "## 3E7\n",
    "\n",
    "Which values of $p$ contain $66\\%$ of the posterior probability, assuming equal posterior probability both below and above the interval?"
   ]
  },
  {
   "cell_type": "code",
   "execution_count": null,
   "metadata": {},
   "outputs": [
    {
     "data": {
      "text/plain": [
       "array([0.5005005 , 0.77777778])"
      ]
     },
     "execution_count": null,
     "metadata": {},
     "output_type": "execute_result"
    }
   ],
   "source": [
    "np.quantile( samples , (0.17, 0.66 + 0.17) )"
   ]
  },
  {
   "cell_type": "markdown",
   "metadata": {},
   "source": [
    "## 3M1\n",
    "\n",
    "Suppose the globe tossing data had turned out to be 8 water in 15 tosses. Construct the posterior distribution, using grid approximation. Use the same flat prior as before."
   ]
  },
  {
   "cell_type": "code",
   "execution_count": null,
   "metadata": {},
   "outputs": [],
   "source": [
    "p_grid, posterior = grid_approx(1e3, 8, 15)"
   ]
  },
  {
   "cell_type": "markdown",
   "metadata": {},
   "source": [
    "## 3M2\n",
    "\n",
    "Draw 10,000 samples from the posterior above. Then use the samples to calculate the 90% HPDI for p."
   ]
  },
  {
   "cell_type": "code",
   "execution_count": null,
   "metadata": {},
   "outputs": [
    {
     "data": {
      "text/plain": [
       "array([0.34034034, 0.72572573])"
      ]
     },
     "execution_count": null,
     "metadata": {},
     "output_type": "execute_result"
    }
   ],
   "source": [
    "samples = np.random.choice( p_grid , p=posterior , size=int(1e4) , \n",
    "                           replace=True )\n",
    "az.hdi( samples , hdi_prob=0.9 )"
   ]
  },
  {
   "cell_type": "markdown",
   "metadata": {},
   "source": [
    "## 3M3\n",
    "\n",
    "Construct a posterior predictive check for this model and data. This means simulate the distribution of samples, averaging over the posterior uncertainty in p. What is the probability of observing 8 water in 15 tosses?"
   ]
  },
  {
   "cell_type": "code",
   "execution_count": null,
   "metadata": {},
   "outputs": [
    {
     "data": {
      "text/plain": [
       "array([9])"
      ]
     },
     "execution_count": null,
     "metadata": {},
     "output_type": "execute_result"
    }
   ],
   "source": [
    "# Conduct 1 experiment where we toss the globe 15 times \n",
    "# and the fraction of the water on the globe is 0.5 \n",
    "# and record the number of waters.\n",
    "np.random.binomial( n=15 , p=0.5 , size=1 )"
   ]
  },
  {
   "cell_type": "code",
   "execution_count": null,
   "metadata": {},
   "outputs": [
    {
     "data": {
      "text/plain": [
       "array([3, 7])"
      ]
     },
     "execution_count": null,
     "metadata": {},
     "output_type": "execute_result"
    }
   ],
   "source": [
    "# Conduct 2 experiment where we toss the globe 15 times \n",
    "# and the fraction of the water on the globe is 0.2 and 0.5 in the first and \n",
    "# second experiment respectively.\n",
    "# Record the number of waters.\n",
    "np.random.binomial( n=15 , p= [0.2, 0.5] )"
   ]
  },
  {
   "cell_type": "code",
   "execution_count": null,
   "metadata": {},
   "outputs": [
    {
     "data": {
      "text/plain": [
       "(10000,)"
      ]
     },
     "execution_count": null,
     "metadata": {},
     "output_type": "execute_result"
    }
   ],
   "source": [
    "ppd = np.random.binomial( n=15 , p=samples )\n",
    "ppd.shape"
   ]
  },
  {
   "cell_type": "code",
   "execution_count": null,
   "metadata": {},
   "outputs": [],
   "source": [
    "from collections import Counter"
   ]
  },
  {
   "cell_type": "code",
   "execution_count": null,
   "metadata": {},
   "outputs": [
    {
     "data": {
      "text/plain": [
       "Counter({0: 7,\n",
       "         1: 35,\n",
       "         2: 119,\n",
       "         3: 260,\n",
       "         4: 525,\n",
       "         5: 833,\n",
       "         6: 1199,\n",
       "         7: 1412,\n",
       "         8: 1460,\n",
       "         9: 1337,\n",
       "         10: 1169,\n",
       "         11: 791,\n",
       "         12: 522,\n",
       "         13: 241,\n",
       "         14: 73,\n",
       "         15: 17})"
      ]
     },
     "execution_count": null,
     "metadata": {},
     "output_type": "execute_result"
    }
   ],
   "source": [
    "count_dict = Counter(ppd)\n",
    "# We recorded 8 waters as the outcome in 1,460 out of the 10,000 experiments\n",
    "count_dict"
   ]
  },
  {
   "cell_type": "code",
   "execution_count": null,
   "metadata": {},
   "outputs": [
    {
     "data": {
      "text/plain": [
       "Text(0, 0.5, 'count')"
      ]
     },
     "execution_count": null,
     "metadata": {},
     "output_type": "execute_result"
    },
    {
     "data": {
      "image/png": "[encoded data removed]",
      "text/plain": [
       "<Figure size 432x288 with 1 Axes>"
      ]
     },
     "metadata": {
      "needs_background": "light"
     },
     "output_type": "display_data"
    }
   ],
   "source": [
    "possible_num_waters = sorted( count_dict.keys()  )\n",
    "plt.bar( possible_num_waters , \n",
    "        [count_dict[waters] for waters in possible_num_waters ] )\n",
    "plt.xlabel('number of water samples')\n",
    "plt.ylabel('count')"
   ]
  },
  {
   "cell_type": "code",
   "execution_count": null,
   "metadata": {},
   "outputs": [
    {
     "data": {
      "text/plain": [
       "0.146"
      ]
     },
     "execution_count": null,
     "metadata": {},
     "output_type": "execute_result"
    }
   ],
   "source": [
    "# There is 14.6% probability of observing 8 waters in 15 tosses\n",
    "np.sum( ppd == 8) / ppd.shape[0]"
   ]
  },
  {
   "cell_type": "markdown",
   "metadata": {},
   "source": [
    "## 3M4\n",
    "\n",
    "Using the posterior distribution constructed from the new (8/15) data, now calculate the probability of observing 6 water in 9 tosses."
   ]
  },
  {
   "cell_type": "code",
   "execution_count": null,
   "metadata": {},
   "outputs": [
    {
     "data": {
      "text/plain": [
       "0.1789"
      ]
     },
     "execution_count": null,
     "metadata": {},
     "output_type": "execute_result"
    }
   ],
   "source": [
    "ppd = np.random.binomial( n=9 , p=samples )\n",
    "np.sum( ppd == 6) / ppd.shape[0]"
   ]
  },
  {
   "cell_type": "markdown",
   "metadata": {},
   "source": [
    "## 3M5 \n",
    "\n",
    "Start over at 3M1, but now use a prior that is zero below p=0.5 and a constant above p=0.5. This corresponds to prior information that a majority of the Earth's surface is water. Repeat each problem above and compare the inferences. What difference does the better prior make? If it helps, compare inferences (using both priors) to the true value p=0.7."
   ]
  },
  {
   "cell_type": "code",
   "execution_count": null,
   "metadata": {},
   "outputs": [
    {
     "data": {
      "text/plain": [
       "array([0., 0., 1., 2., 2.])"
      ]
     },
     "execution_count": null,
     "metadata": {},
     "output_type": "execute_result"
    }
   ],
   "source": [
    "np.heaviside( np.array([0, 0.25, 0.5, 0.75, 1]) - 0.5, 0.5) * 2"
   ]
  },
  {
   "cell_type": "code",
   "execution_count": null,
   "metadata": {},
   "outputs": [
    {
     "data": {
      "text/plain": [
       "array([False, False,  True,  True,  True])"
      ]
     },
     "execution_count": null,
     "metadata": {},
     "output_type": "execute_result"
    }
   ],
   "source": [
    "np.array([0, 0.25, 0.5, 0.75, 1]) >= 0.5"
   ]
  },
  {
   "cell_type": "code",
   "execution_count": null,
   "metadata": {},
   "outputs": [
    {
     "data": {
      "text/plain": [
       "array([0, 0, 1, 1, 1])"
      ]
     },
     "execution_count": null,
     "metadata": {},
     "output_type": "execute_result"
    }
   ],
   "source": [
    "( np.array([0, 0.25, 0.5, 0.75, 1]) >= 0.5 ).astype(int)"
   ]
  },
  {
   "cell_type": "code",
   "execution_count": null,
   "metadata": {},
   "outputs": [
    {
     "data": {
      "text/plain": [
       "array([0., 0., 2., 2., 2.])"
      ]
     },
     "execution_count": null,
     "metadata": {},
     "output_type": "execute_result"
    }
   ],
   "source": [
    "( np.array([0, 0.25, 0.5, 0.75, 1]) >= 0.5 ).astype(int) * 2."
   ]
  },
  {
   "cell_type": "code",
   "execution_count": null,
   "metadata": {},
   "outputs": [],
   "source": [
    "def grid_approx2(num_grid_points, successes, tosses):\n",
    "  p_grid = np.linspace( 0 , 1 , int(num_grid_points) )\n",
    "  prior = ( p_grid >= 0.5 ).astype(int) * 2. # truncated prior\n",
    "  likelihood = stats.binom.pmf( k=successes , n=tosses , p=p_grid )\n",
    "  unstd_posterior = prior * likelihood\n",
    "  posterior = unstd_posterior / unstd_posterior.sum()\n",
    "  return p_grid, posterior"
   ]
  },
  {
   "cell_type": "code",
   "execution_count": null,
   "metadata": {},
   "outputs": [
    {
     "data": {
      "text/plain": [
       "array([0.5005005 , 0.71271271])"
      ]
     },
     "execution_count": null,
     "metadata": {},
     "output_type": "execute_result"
    }
   ],
   "source": [
    "p_grid, posterior = grid_approx2(1e3, 8, 15) #3M1'\n",
    "\n",
    "# 3M2'\n",
    "samples = np.random.choice( p_grid , p=posterior , size=int(1e4) \n",
    "                           , replace=True )\n",
    "az.hdi( samples , hdi_prob=0.9 )"
   ]
  },
  {
   "cell_type": "code",
   "execution_count": null,
   "metadata": {},
   "outputs": [
    {
     "data": {
      "text/plain": [
       "Counter({1: 2,\n",
       "         2: 6,\n",
       "         3: 45,\n",
       "         4: 127,\n",
       "         5: 341,\n",
       "         6: 664,\n",
       "         7: 1107,\n",
       "         8: 1623,\n",
       "         9: 1739,\n",
       "         10: 1613,\n",
       "         11: 1359,\n",
       "         12: 825,\n",
       "         13: 383,\n",
       "         14: 141,\n",
       "         15: 25})"
      ]
     },
     "execution_count": null,
     "metadata": {},
     "output_type": "execute_result"
    }
   ],
   "source": [
    "# 3M3'\n",
    "ppd = np.random.binomial( n=15 , p=samples )\n",
    "\n",
    "count_dict = Counter(ppd)\n",
    "count_dict"
   ]
  },
  {
   "cell_type": "code",
   "execution_count": null,
   "metadata": {},
   "outputs": [
    {
     "data": {
      "text/plain": [
       "Text(0, 0.5, 'count')"
      ]
     },
     "execution_count": null,
     "metadata": {},
     "output_type": "execute_result"
    },
    {
     "data": {
      "image/png": "[encoded data removed]",
      "text/plain": [
       "<Figure size 432x288 with 1 Axes>"
      ]
     },
     "metadata": {
      "needs_background": "light"
     },
     "output_type": "display_data"
    }
   ],
   "source": [
    "possible_num_waters = sorted( count_dict.keys()  )\n",
    "plt.bar( possible_num_waters , \n",
    "        [count_dict[waters] for waters in possible_num_waters ] )\n",
    "plt.xlabel('number of water samples')\n",
    "plt.ylabel('count')"
   ]
  },
  {
   "cell_type": "code",
   "execution_count": null,
   "metadata": {},
   "outputs": [
    {
     "name": "stdout",
     "output_type": "stream",
     "text": [
      "Likelihood 0.1613 of observing 10 waters in 15 tosses\n"
     ]
    }
   ],
   "source": [
    "# reasonable amount of mass on 10 waters\n",
    "# 0.7 is the true fraction of water covering the globe\n",
    "print(f'Likelihood {(np.sum( ppd == int(15*0.7) ) / ppd.shape[0]):0.4f} of observing 10 waters in 15 tosses')"
   ]
  },
  {
   "cell_type": "code",
   "execution_count": null,
   "metadata": {},
   "outputs": [
    {
     "name": "stdout",
     "output_type": "stream",
     "text": [
      "Likelihood 0.1623 of observing 8 waters in 15 tosses\n"
     ]
    }
   ],
   "source": [
    "print(f'Likelihood {(np.sum( ppd == 8) / ppd.shape[0]):0.4f} of observing 8 waters in 15 tosses')"
   ]
  },
  {
   "cell_type": "markdown",
   "metadata": {},
   "source": [
    "## 3M6\n",
    "\n",
    "Suppose you want to estimate the Earth’s proportion of water very precisely. Specifically, you want the 99% percentile interval of the posterior distribution of p to be only 0.05 wide. This means the distance between the upper and lower bound of the interval should be 0.05. How many times will you have to toss the globe to do this?"
   ]
  },
  {
   "cell_type": "code",
   "execution_count": null,
   "metadata": {},
   "outputs": [
    {
     "name": "stdout",
     "output_type": "stream",
     "text": [
      "0.00 104\n",
      "0.11 729\n",
      "0.22 1217\n",
      "0.33 1523\n",
      "0.44 1722\n",
      "0.56 1698\n",
      "0.67 1509\n",
      "0.78 1190\n",
      "0.89 668\n",
      "1.00 59\n"
     ]
    }
   ],
   "source": [
    "p_water = np.linspace(0,1,10) # ground truth of the fraction of water on Earth\n",
    "\n",
    "for p_true in p_water:\n",
    "  converged=False\n",
    "  N_tosses=1\n",
    "  while not converged:\n",
    "    # if we observe int(N_tosses*p_true) waters in N_tosses\n",
    "    # get the posterior distribution of the fraction of water\n",
    "    p_grid, posterior = grid_approx( 1e3, int(N_tosses*p_true), N_tosses )\n",
    "    # get samples from the posterior\n",
    "    samples = np.random.choice(p_grid, p=posterior, size=int(1e4), replace=True)\n",
    "    # compute the 99% interval\n",
    "    interval = np.quantile( samples , (0.05, 0.995) )\n",
    "    # get the width of the interval\n",
    "    width = interval[1] - interval[0]\n",
    "    converged = ( width <= 0.05 )\n",
    "    # print(p_true, N_tosses, width)\n",
    "    N_tosses += 1\n",
    "  print(f'{p_true:0.2f}', N_tosses)"
   ]
  },
  {
   "cell_type": "markdown",
   "metadata": {},
   "source": [
    "## Hard\n",
    "\n",
    "The Hard problems here all use the data below. These data indicate the gender (male=1, female=0) of officially reported first and second born children in 100 two-child families."
   ]
  },
  {
   "cell_type": "code",
   "execution_count": null,
   "metadata": {},
   "outputs": [],
   "source": [
    "birth1 = np.array([1,0,0,0,1,1,0,1,0,1,0,0,1,1,0,1,1,0,0,0,1,0,0,0,1,0,\n",
    "0,0,0,1,1,1,0,1,0,1,1,1,0,1,0,1,1,0,1,0,0,1,1,0,1,0,0,0,0,0,0,0,\n",
    "1,1,0,1,0,0,1,0,0,0,1,0,0,1,1,1,1,0,1,0,1,1,1,1,1,0,0,1,0,1,1,0,\n",
    "1,0,1,1,1,0,1,1,1,1])\n",
    "birth2 = np.array([0,1,0,1,0,1,1,1,0,0,1,1,1,1,1,0,0,1,1,1,0,0,1,1,1,0,\n",
    "1,1,1,0,1,1,1,0,1,0,0,1,1,1,1,0,0,1,0,1,1,1,1,1,1,1,1,1,1,1,1,1,\n",
    "1,1,1,0,1,1,0,1,1,0,1,1,1,0,0,0,0,0,0,1,0,0,0,1,1,0,0,1,0,0,1,1,\n",
    "0,0,0,1,1,1,0,0,0,0])"
   ]
  },
  {
   "cell_type": "code",
   "execution_count": null,
   "metadata": {},
   "outputs": [
    {
     "data": {
      "text/plain": [
       "111"
      ]
     },
     "execution_count": null,
     "metadata": {},
     "output_type": "execute_result"
    }
   ],
   "source": [
    "np.sum(birth1) + np.sum(birth2)"
   ]
  },
  {
   "cell_type": "code",
   "execution_count": null,
   "metadata": {},
   "outputs": [
    {
     "data": {
      "text/plain": [
       "200"
      ]
     },
     "execution_count": null,
     "metadata": {},
     "output_type": "execute_result"
    }
   ],
   "source": [
    "birth1.shape[0] + birth2.shape[0]"
   ]
  },
  {
   "cell_type": "markdown",
   "metadata": {},
   "source": [
    "## 3H1\n",
    "\n",
    "Using grid approximation, compute the posterior distribution for the probability of a birth being a boy. Assume a uniform prior probability. Which parameter value maximizes the posterior probability?"
   ]
  },
  {
   "cell_type": "code",
   "execution_count": null,
   "metadata": {},
   "outputs": [
    {
     "data": {
      "text/plain": [
       "0.5545545545545546"
      ]
     },
     "execution_count": null,
     "metadata": {},
     "output_type": "execute_result"
    }
   ],
   "source": [
    "p_grid, posterior = grid_approx(1000, np.sum(birth1) + np.sum(birth2), \n",
    "                                birth1.shape[0] + birth2.shape[0])\n",
    "p_grid[ np.argmax(posterior) ]"
   ]
  },
  {
   "cell_type": "markdown",
   "metadata": {},
   "source": [
    "##3H2\n",
    "\n",
    "Using the sample function, draw 10,000 random parameter values from the posterior distribution you calculated above. Use these samples to estimate the 50%, 89%, and 97% highest posterior density intervals."
   ]
  },
  {
   "cell_type": "code",
   "execution_count": null,
   "metadata": {},
   "outputs": [],
   "source": [
    "samples = np.random.choice(p_grid, p=posterior, size=int(1e4), replace=True)"
   ]
  },
  {
   "cell_type": "code",
   "execution_count": null,
   "metadata": {},
   "outputs": [
    {
     "name": "stdout",
     "output_type": "stream",
     "text": [
      "50% HPDI [0.52552553 0.57357357]\n",
      "89% HPDI [0.5005005  0.61161161]\n",
      "97% HPDI [0.48248248 0.63263263]\n"
     ]
    }
   ],
   "source": [
    "print(f'50% HPDI {az.hdi(samples, hdi_prob=0.5)}')\n",
    "print(f'89% HPDI {az.hdi(samples, hdi_prob=0.89)}')\n",
    "print(f'97% HPDI {az.hdi(samples, hdi_prob=0.97)}')"
   ]
  },
  {
   "cell_type": "markdown",
   "metadata": {},
   "source": [
    "## 3H3\n",
    "\n",
    "Use rbinom to simulate 10,000 replicates of 200 births. You should end up with 10,000 numbers, each one a count of boys out of 200 births. Compare the distribution of predicted numbers of boys to the actual count in the data (111 boys out of 200 births). There are many good ways to visualize the simulations, but the dens command (part of the rethinking package) is probably the easiest way in this case. Does it look like the model fits the data well? That is, does the distribution of predictions include the actual observation as a central, likely outcome?"
   ]
  },
  {
   "cell_type": "code",
   "execution_count": null,
   "metadata": {},
   "outputs": [
    {
     "data": {
      "text/plain": [
       "array([106, 116, 117, 134, 115, 105, 124, 106, 109, 122])"
      ]
     },
     "execution_count": null,
     "metadata": {},
     "output_type": "execute_result"
    }
   ],
   "source": [
    "sampled_births = np.random.binomial(n=200, p=samples)\n",
    "sampled_births[:10]"
   ]
  },
  {
   "cell_type": "markdown",
   "metadata": {},
   "source": [
    "\n",
    "It looks like the model fits the data well and the distribution of predictions includes the actual observation of 111 boys as a central, likely outcome."
   ]
  },
  {
   "cell_type": "code",
   "execution_count": null,
   "metadata": {},
   "outputs": [
    {
     "data": {
      "image/png": "[encoded data removed]",
      "text/plain": [
       "<Figure size 432x288 with 1 Axes>"
      ]
     },
     "metadata": {
      "needs_background": "light"
     },
     "output_type": "display_data"
    }
   ],
   "source": [
    "plt.hist(sampled_births)\n",
    "plt.title(\"Posterior predictive distribution of #boys per 200 births\")\n",
    "plt.xlabel(\"#Boys\")\n",
    "plt.ylabel(\"Frequency\");"
   ]
  },
  {
   "cell_type": "markdown",
   "metadata": {},
   "source": [
    "## 3H4\n",
    "\n",
    "Now compare 10,000 counts of boys from 100 simulated first borns only to the number of boys in the first births, birth1. How does the model look in this light?\n"
   ]
  },
  {
   "cell_type": "code",
   "execution_count": null,
   "metadata": {},
   "outputs": [
    {
     "data": {
      "text/plain": [
       "<matplotlib.lines.Line2D>"
      ]
     },
     "execution_count": null,
     "metadata": {},
     "output_type": "execute_result"
    },
    {
     "data": {
      "image/png": "[encoded data removed]",
      "text/plain": [
       "<Figure size 432x288 with 1 Axes>"
      ]
     },
     "metadata": {
      "needs_background": "light"
     },
     "output_type": "display_data"
    }
   ],
   "source": [
    "first_births = np.random.binomial(n=100, p=samples)\n",
    "plt.hist(first_births)\n",
    "plt.title(\"Posterior predictive distribution of #boys per 100 births\")\n",
    "plt.xlabel(\"#Boys\")\n",
    "plt.ylabel(\"Frequency\");\n",
    "plt.axvline(np.sum(birth1), c=\"r\", label=\"Observed births\")"
   ]
  },
  {
   "cell_type": "code",
   "execution_count": null,
   "metadata": {},
   "outputs": [
    {
     "name": "stdout",
     "output_type": "stream",
     "text": [
      "number of boys in birth1 is 51\n"
     ]
    }
   ],
   "source": [
    "print(f'number of boys in birth1 is {np.sum(birth1)}')"
   ]
  },
  {
   "cell_type": "markdown",
   "metadata": {},
   "source": [
    "In first_births 51 is not in the center of the predicted number of boys."
   ]
  },
  {
   "cell_type": "markdown",
   "metadata": {},
   "source": [
    "##3H5\n",
    "\n",
    "The model assumes that sex of first and second births are independent. To check this assumption, focus now on second births that followed female first borns. Compare 10,000 simulated counts of boys to only those second births that followed girls. To do this correctly, you need to count the number of first borns who were girls and simulate that many births, 10,000 times. Compare the counts of boys in your simulations to the actual observed count of boys following girls. How does the model look in this light? Any guesses what is going on in these data?"
   ]
  },
  {
   "cell_type": "code",
   "execution_count": null,
   "metadata": {},
   "outputs": [
    {
     "data": {
      "text/plain": [
       "49"
      ]
     },
     "execution_count": null,
     "metadata": {},
     "output_type": "execute_result"
    }
   ],
   "source": [
    "#number of first borns who were girls\n",
    "girls_first_born = birth1.shape[0] - np.sum(birth1)\n",
    "girls_first_born"
   ]
  },
  {
   "cell_type": "code",
   "execution_count": null,
   "metadata": {},
   "outputs": [
    {
     "data": {
      "text/plain": [
       "array([24, 35, 28, 25, 32, 24, 25, 28, 30, 24])"
      ]
     },
     "execution_count": null,
     "metadata": {},
     "output_type": "execute_result"
    }
   ],
   "source": [
    "# Conduct 10,000 experiments where in each experiment \n",
    "# we simulate births in the 49 families which had girl first borns\n",
    "# we record the outcome of the number of boys\n",
    "second_births_after_gfb = np.random.binomial( n=girls_first_born, p=samples )\n",
    "second_births_after_gfb[:10]"
   ]
  },
  {
   "cell_type": "code",
   "execution_count": null,
   "metadata": {},
   "outputs": [
    {
     "data": {
      "text/plain": [
       "<matplotlib.lines.Line2D>"
      ]
     },
     "execution_count": null,
     "metadata": {},
     "output_type": "execute_result"
    },
    {
     "data": {
      "image/png": "[encoded data removed]",
      "text/plain": [
       "<Figure size 432x288 with 1 Axes>"
      ]
     },
     "metadata": {
      "needs_background": "light"
     },
     "output_type": "display_data"
    }
   ],
   "source": [
    "plt.hist(second_births_after_gfb)\n",
    "plt.title(\"Posterior predictive distribution of #boys after girl births\")\n",
    "plt.xlabel(\"#Boys\")\n",
    "plt.ylabel(\"Frequency\");\n",
    "plt.axvline(np.sum(birth2[birth1==0]), c=\"r\", label=\"Observed births\")"
   ]
  },
  {
   "cell_type": "markdown",
   "metadata": {},
   "source": [
    "More boy births were observed in comparison to what our model predicts to be the likely outcomes. This means that the independence assumption we made in our small world model of each birth being of either sex does not hold for this dataset. "
   ]
  },
  {
   "cell_type": "code",
   "execution_count": null,
   "metadata": {},
   "outputs": [],
   "source": []
  }
 ],
 "metadata": {
  "kernelspec": {
   "display_name": "Python 3 (ipykernel)",
   "language": "python",
   "name": "python3"
  }
 },
 "nbformat": 4,
 "nbformat_minor": 4
}
