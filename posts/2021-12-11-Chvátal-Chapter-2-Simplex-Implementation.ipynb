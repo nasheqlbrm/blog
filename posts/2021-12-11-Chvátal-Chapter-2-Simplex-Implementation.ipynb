{
 "cells": [
  {
   "cell_type": "raw",
   "metadata": {},
   "source": [
    "---\n",
    "aliases:\n",
    "- \"/jupyter/math-program/2021/12/11/Chvatal-Chapter-2-Simplex-Implementation\"\n",
    "badges: true\n",
    "categories:\n",
    "- math-program\n",
    "- jupyter\n",
    "date: '2021-12-11'\n",
    "output-file: \"2021-12-11-chvatal-chapter-2-simplex-implementation.html\"\n",
    "title: \"Chv\\xE1tal Chapter 2 Simplex Implementation\"\n",
    "toc: false\n",
    "use_math: true\n",
    "\n",
    "---\n",
    "\n"
   ]
  },
  {
   "cell_type": "code",
   "execution_count": null,
   "metadata": {},
   "outputs": [
    {
     "name": "stdout",
     "output_type": "stream",
     "text": [
      "Requirement already satisfied: rich in /usr/local/lib/python3.7/dist-packages (11.0.0)\n",
      "Requirement already satisfied: commonmark<0.10.0,>=0.9.0 in /usr/local/lib/python3.7/dist-packages (from rich) (0.9.1)\n",
      "Requirement already satisfied: typing-extensions<5.0,>=3.7.4 in /usr/local/lib/python3.7/dist-packages (from rich) (3.10.0.2)\n",
      "Requirement already satisfied: colorama<0.5.0,>=0.4.0 in /usr/local/lib/python3.7/dist-packages (from rich) (0.4.4)\n",
      "Requirement already satisfied: pygments<3.0.0,>=2.6.0 in /usr/local/lib/python3.7/dist-packages (from rich) (2.6.1)\n"
     ]
    }
   ],
   "source": [
    "#collapse-output\n",
    "!pip install rich"
   ]
  },
  {
   "cell_type": "code",
   "execution_count": null,
   "metadata": {},
   "outputs": [],
   "source": [
    "import pandas as pd\n",
    "import numpy as np\n",
    "\n",
    "from rich import print"
   ]
  },
  {
   "cell_type": "markdown",
   "metadata": {},
   "source": [
    "A basic implementation of the Simplex algorithm as described in Chapter 2 of {% cite chvatal1983linear %} for problems of the form \n",
    "<div>\n",
    "<img src=\"https://github.com/nasheqlbrm/blog/blob/main/images/chvatal_1dot7.png?raw=1\" width=\"300\"/>\n",
    "</div>"
   ]
  },
  {
   "cell_type": "markdown",
   "metadata": {},
   "source": [
    "Roughly speaking the implementation involves iterating through a sequence of _dictionaries_ until an optimal solution is uncovered. A dictionary is a system of linear equations associated with a feasible solution such as:\n",
    "<div>\n",
    "<img src=\"https://github.com/nasheqlbrm/blog/blob/main/images/chvatal_dict_2dot13.png?raw=1\" width=\"300\"/>\n",
    "</div>"
   ]
  },
  {
   "cell_type": "markdown",
   "metadata": {},
   "source": [
    "We will then use the implementation to solve\n",
    "<div>\n",
    "<img src=\"https://github.com/nasheqlbrm/blog/blob/main/images/chvatal_chapter2_example1.png?raw=1\" width=\"300\"/>\n",
    "</div>"
   ]
  },
  {
   "cell_type": "markdown",
   "metadata": {},
   "source": [
    "The data corresponding to this problem and other problem instances can be obtained from the methods in the collapsed code cell below."
   ]
  },
  {
   "cell_type": "code",
   "execution_count": null,
   "metadata": {},
   "outputs": [],
   "source": [
    "#| code-fold: true\n",
    "def get_problem_1():\n",
    "  # objective function coefficients\n",
    "  c = np.array([[5],[4],[3]])\n",
    "  #c.shape\n",
    "\n",
    "  # constraint coefficients\n",
    "  A = np.array([[2,3,1],[4,1,2],[3,4,2]])\n",
    "  #A.shape\n",
    "\n",
    "  # right hand sides\n",
    "  b = np.array([[5],[11],[8]])\n",
    "  #b.shape\n",
    "\n",
    "  return c, A, b\n",
    "\n",
    "def get_problem_2():\n",
    "  # objective function coefficients\n",
    "  c = np.array([[5],[5],[3]])\n",
    "  \n",
    "  # constraint coefficients\n",
    "  A = np.array([[1,3,1],[-1,0,3],[2,-1,2],[2,3,-1]])\n",
    "  \n",
    "  # right hand sides\n",
    "  b = np.array([[3],[2],[4],[2]])\n",
    "  \n",
    "  return c, A, b\n",
    "\n",
    "def get_problem_2_1a():\n",
    "  # objective function coefficients\n",
    "  c = np.array([[3],[2],[4]])\n",
    "  \n",
    "  # constraint coefficients\n",
    "  A = np.array([[1,1,2],[2,0,3],[2,1,3]])\n",
    "  \n",
    "  # right hand sides\n",
    "  b = np.array([[4],[5],[7]])\n",
    "  \n",
    "  return c, A, b\n",
    "\n",
    "def get_problem_2_1b():\n",
    "  # objective function coefficients\n",
    "  c = np.array([[5],[6],[9],[8]])\n",
    "  \n",
    "  # constraint coefficients\n",
    "  A = np.array([[1,2,3,1],[1,1,2,3]])\n",
    "  \n",
    "  # right hand sides\n",
    "  b = np.array([[5],[3]])\n",
    "  \n",
    "  return c, A, b\n",
    "\n",
    "def get_problem_2_1c():\n",
    "  # objective function coefficients\n",
    "  c = np.array([[2],[1]])\n",
    "  \n",
    "  # constraint coefficients\n",
    "  A = np.array([[2,3],[1,5],[2,1],[4,1]])\n",
    "  \n",
    "  # right hand sides\n",
    "  b = np.array([[3],[1],[4],[5]])\n",
    "  \n",
    "  return c, A, b  \n",
    "\n",
    "def get_problem_2_2():\n",
    "  # objective function coefficients\n",
    "  c = np.array([[2],[3],[5],[4]])\n",
    "  \n",
    "  # constraint coefficients\n",
    "  A = np.array([[1,2,3,1],[1,1,2,3]])\n",
    "  \n",
    "  # right hand sides\n",
    "  b = np.array([[5],[3]])\n",
    "  \n",
    "  return c, A, b\n",
    "\n",
    "def get_unbounded_problem():\n",
    "  # objective function coefficients\n",
    "  c = np.array([[1],[-1]])\n",
    "  \n",
    "  # constraint coefficients\n",
    "  A = np.array([[-2,1],[-1,-2]])\n",
    "  \n",
    "  # right hand sides\n",
    "  b = np.array([[-1],[-2]])\n",
    "  \n",
    "  return c, A, b  \n",
    "\n",
    "def get_problem_1_6():\n",
    "  # objective function coefficients\n",
    "  c = np.array([[6],[3],[8],[3],[9],[5]])\n",
    "  #c.shape\n",
    "\n",
    "  # constraint coefficients\n",
    "  A = np.array([[1,1,0,0,0,0],[0,0,1,1,0,0],[0,0,0,0,1,1],\n",
    "                [1,0,1,0,1,0],[0,1,0,1,0,1]])\n",
    "  #A.shape\n",
    "\n",
    "  # right hand sides\n",
    "  b = np.array([[480],[400],[230],[420],[250]])\n",
    "  #b.shape\n",
    "\n",
    "  return c, A, b"
   ]
  },
  {
   "cell_type": "code",
   "execution_count": null,
   "metadata": {},
   "outputs": [],
   "source": [
    "c, A, b = get_problem_1()"
   ]
  },
  {
   "cell_type": "markdown",
   "metadata": {},
   "source": [
    "## Constants."
   ]
  },
  {
   "cell_type": "code",
   "execution_count": null,
   "metadata": {},
   "outputs": [],
   "source": [
    "m = A.shape[0] # number of constraints\n",
    "n = A.shape[1] # number of decision variables\n",
    "\n",
    "FIRST_ROW = 0\n",
    "ALL_BUT_LAST_ROW = -1\n",
    "\n",
    "FIRST_COLUMN = 0\n",
    "SECOND_COLUMN = 1\n",
    "\n",
    "Z_ROW = m"
   ]
  },
  {
   "cell_type": "markdown",
   "metadata": {},
   "source": [
    "## Identify the variable to enter the basis\n",
    "Strictly speaking the method identifies the column corresponding to the variable that is going to be entering the basis."
   ]
  },
  {
   "cell_type": "code",
   "execution_count": null,
   "metadata": {},
   "outputs": [],
   "source": [
    "#| code-fold: true\n",
    "def get_entering_column(chvatal_dict):\n",
    "  entering_column = None\n",
    "\n",
    "  # and second column and after since we are using\n",
    "  # the first column to store the RHSs.\n",
    "  z_coeffs = chvatal_dict[ Z_ROW , SECOND_COLUMN : ]\n",
    "\n",
    "  if np.max( z_coeffs ) > 0:\n",
    "    # the column that enters from the dictionary\n",
    "    # is one with the largest positive coefficient\n",
    "    # (since we are maximizing)\n",
    "    entering_column = np.argmax( z_coeffs ) + 1\n",
    "    # we need to add one since we looked from the\n",
    "    # second column onwards\n",
    "\n",
    "  return entering_column"
   ]
  },
  {
   "cell_type": "markdown",
   "metadata": {},
   "source": [
    "## Identify the variable to leave the basis\n",
    "The method identifies the row corresponding to the variable that is going to be leaving the basis."
   ]
  },
  {
   "cell_type": "code",
   "execution_count": null,
   "metadata": {},
   "outputs": [],
   "source": [
    "#| code-fold: true\n",
    "def get_leaving_row(chvatal_dict, entering_column):\n",
    "  cd = chvatal_dict[ FIRST_ROW : ALL_BUT_LAST_ROW, : ]\n",
    "\n",
    "  cd_first_column = cd[:, FIRST_COLUMN].copy()\n",
    "  cd_entering_column = -cd[:, entering_column].copy()\n",
    "  \n",
    "  # avoid a divide by zero - identify if any\n",
    "  # coefficients in the entering column are zero\n",
    "  if sum(cd_entering_column==0):\n",
    "    # set the numerator to -1\n",
    "    cd_first_column[cd_entering_column==0] = -1\n",
    "    # now replace the 0 in the denominators with 1\n",
    "    cd_entering_column[cd_entering_column==0] = 1\n",
    "    # This ensures that such columns are not considered\n",
    "    # when it comes time to decide the leaving variable\n",
    "    # Also note that after this step\n",
    "    # all entries in cd_entering_column==0 will be False\n",
    "\n",
    "  leaving_row_candidates = cd_first_column / cd_entering_column\n",
    "  # print(leaving_row_candidates)\n",
    "\n",
    "  # Identify the leaving variable\n",
    "  leaving_row = None\n",
    "  if np.min( leaving_row_candidates ) < 0:\n",
    "    # Replace candidates violating non-negativity by infinity\n",
    "    # so these will be ignored when choosing the leaving variable\n",
    "    leaving_row_candidates[ leaving_row_candidates < 0 ] = np.inf\n",
    "\n",
    "  # the row that leaves from the dictionary\n",
    "  # is the one that will impose the strictest\n",
    "  # constraint on the requirement that the\n",
    "  # variable remain non-negative\n",
    "  leaving_row = np.argmin( leaving_row_candidates )\n",
    "\n",
    "  #print(leaving_row)\n",
    "  return leaving_row"
   ]
  },
  {
   "cell_type": "markdown",
   "metadata": {},
   "source": [
    "## Construct the system for the next iteration"
   ]
  },
  {
   "cell_type": "code",
   "execution_count": null,
   "metadata": {},
   "outputs": [],
   "source": [
    "#| code-fold: true\n",
    "def get_pivot_row(chvatal_dict, leaving_row, entering_column):\n",
    "  # Need to find the coefficient of the non-basic variable\n",
    "  # that is going to be entering the basis.\n",
    "  pivot = -1 * chvatal_dict[leaving_row, entering_column]\n",
    "  \n",
    "  # the pivot_array expresses the newly arrived \n",
    "  # basic variable in terms of the non-basic variables\n",
    "  next_pivot_row = chvatal_dict[leaving_row,:]/pivot\n",
    "  \n",
    "  # the coefficent of the newly arrived non-basic variable\n",
    "  # it is moving from the LHS to the RHS hence the -1\n",
    "  next_pivot_row[entering_column] = -1./pivot\n",
    "  \n",
    "  return pivot, next_pivot_row   \n",
    "\n",
    "def get_next_dictionary(chvatal_dict, leaving_row, entering_column,\n",
    "                           row_lookup, column_lookup):\n",
    "  _, pivot_array = get_pivot_row(chvatal_dict,\n",
    "                                 leaving_row,\n",
    "                                 entering_column)\n",
    "\n",
    "  # Update the remaining rows in the dictionary\n",
    "  # so they are now expressed in terms of the new arrived\n",
    "  # non-basic variable.\n",
    "  # m+1 since we also need to update the row for z\n",
    "  cd_candidate_rows = []\n",
    "  for j in range(m+1):\n",
    "    if j == leaving_row:\n",
    "      cd_candidate_rows.append( pivot_array )\n",
    "    else:\n",
    "      # the coefficient of the leaving non-basic variable\n",
    "      multiplier = chvatal_dict[j, entering_column]\n",
    "      \n",
    "      multiplier_times_pivot_array = multiplier * pivot_array\n",
    "      updated_row_array = multiplier_times_pivot_array +  chvatal_dict[j, : ]\n",
    "      \n",
    "      # correct the multiplier for the newly entered non-basic variable\n",
    "      updated_row_array[entering_column] = multiplier_times_pivot_array[entering_column]\n",
    "      \n",
    "      # print(updated_row_array)\n",
    "      cd_candidate_rows.append( updated_row_array )\n",
    "\n",
    "  cd_next_it = np.vstack( cd_candidate_rows )\n",
    "\n",
    "  # assemble the updated list of basic variables\n",
    "  basic_next_it = row_lookup.copy()\n",
    "  # update the leaving row with the entering new basic variable\n",
    "  basic_next_it[leaving_row] = column_lookup[entering_column]\n",
    "\n",
    "  # assemble the updated list of nonbasic variables\n",
    "  nonbasic_next_it = column_lookup.copy()\n",
    "  # update the entering column with the new nonbasic variable\n",
    "  nonbasic_next_it[entering_column] = row_lookup[leaving_row]\n",
    "\n",
    "  #print(cd_next_it)\n",
    "\n",
    "  return basic_next_it, nonbasic_next_it, cd_next_it"
   ]
  },
  {
   "cell_type": "markdown",
   "metadata": {},
   "source": [
    "## Helper functions"
   ]
  },
  {
   "cell_type": "code",
   "execution_count": null,
   "metadata": {},
   "outputs": [],
   "source": [
    "#| code-fold: true\n",
    "def get_row_variable_names(row_lookup):\n",
    "  row_names = {}\n",
    "  for row_index in row_lookup:\n",
    "    row_names[row_index] = variable_id_to_name[row_lookup[row_index]]\n",
    "    # print(f'row_index {row_index} variable {variable_to_name[row_lookup[row_index]]}')\n",
    "  # Last row is for z \n",
    "  row_names[Z_ROW] = 'z'\n",
    "  return row_names\n",
    "\n",
    "def get_column_variable_names(col_lookup):\n",
    "  col_names = {}\n",
    "\n",
    "  # The first column contains RHSs\n",
    "  col_names[0] = 'RHS'\n",
    "  \n",
    "  for col_index in col_lookup:\n",
    "    col_names[col_index] = variable_id_to_name[col_lookup[col_index]]\n",
    "    # print(f'column_index {col_index} variable {variable_to_name[col_lookup[col_index]]}')\n",
    "  return col_names\n",
    "\n",
    "def get_chvatal_df(cd, row_lookup, col_lookup):\n",
    "  row_names = get_row_variable_names(row_lookup)\n",
    "  col_names = get_column_variable_names(col_lookup)\n",
    "  return pd.DataFrame(cd,\n",
    "             columns=[col_names[k] for k in sorted(col_names)],\n",
    "             index = [row_names[k] for k in sorted(row_names)])\n",
    "\n",
    "    # get the keys of nonbasic_next_iteration in the sorted order of values\n",
    "    # values here are nonbasic variables. Each key is a column index \n",
    "    # ordered_columns = sorted(col_lookup, \n",
    "    #                       key=col_lookup.__getitem__)"
   ]
  },
  {
   "cell_type": "markdown",
   "metadata": {},
   "source": [
    "## The implementation"
   ]
  },
  {
   "cell_type": "code",
   "execution_count": null,
   "metadata": {},
   "outputs": [
    {
     "data": {
      "text/html": [
       "<pre style=\"white-space:pre;overflow-x:auto;line-height:normal;font-family:Menlo,'DejaVu Sans Mono',consolas,'Courier New',monospace\">Iteration <span style=\"color: #008080; text-decoration-color: #008080; font-weight: bold\">0</span>\n",
       " Chvátal dictionary \n",
       "      RHS  x_1  x_2  x_3\n",
       "x_4    <span style=\"color: #008080; text-decoration-color: #008080; font-weight: bold\">5</span>   <span style=\"color: #008080; text-decoration-color: #008080; font-weight: bold\">-2</span>   <span style=\"color: #008080; text-decoration-color: #008080; font-weight: bold\">-3</span>   <span style=\"color: #008080; text-decoration-color: #008080; font-weight: bold\">-1</span>\n",
       "x_5   <span style=\"color: #008080; text-decoration-color: #008080; font-weight: bold\">11</span>   <span style=\"color: #008080; text-decoration-color: #008080; font-weight: bold\">-4</span>   <span style=\"color: #008080; text-decoration-color: #008080; font-weight: bold\">-1</span>   <span style=\"color: #008080; text-decoration-color: #008080; font-weight: bold\">-2</span>\n",
       "x_6    <span style=\"color: #008080; text-decoration-color: #008080; font-weight: bold\">8</span>   <span style=\"color: #008080; text-decoration-color: #008080; font-weight: bold\">-3</span>   <span style=\"color: #008080; text-decoration-color: #008080; font-weight: bold\">-4</span>   <span style=\"color: #008080; text-decoration-color: #008080; font-weight: bold\">-2</span>\n",
       "z      <span style=\"color: #008080; text-decoration-color: #008080; font-weight: bold\">0</span>    <span style=\"color: #008080; text-decoration-color: #008080; font-weight: bold\">5</span>    <span style=\"color: #008080; text-decoration-color: #008080; font-weight: bold\">4</span>    <span style=\"color: #008080; text-decoration-color: #008080; font-weight: bold\">3</span>\n",
       "</pre>\n"
      ],
      "text/plain": [
       "Iteration \u001b[1;36m0\u001b[0m\n",
       " Chvátal dictionary \n",
       "      RHS  x_1  x_2  x_3\n",
       "x_4    \u001b[1;36m5\u001b[0m   \u001b[1;36m-2\u001b[0m   \u001b[1;36m-3\u001b[0m   \u001b[1;36m-1\u001b[0m\n",
       "x_5   \u001b[1;36m11\u001b[0m   \u001b[1;36m-4\u001b[0m   \u001b[1;36m-1\u001b[0m   \u001b[1;36m-2\u001b[0m\n",
       "x_6    \u001b[1;36m8\u001b[0m   \u001b[1;36m-3\u001b[0m   \u001b[1;36m-4\u001b[0m   \u001b[1;36m-2\u001b[0m\n",
       "z      \u001b[1;36m0\u001b[0m    \u001b[1;36m5\u001b[0m    \u001b[1;36m4\u001b[0m    \u001b[1;36m3\u001b[0m\n"
      ]
     },
     "metadata": {},
     "output_type": "display_data"
    },
    {
     "data": {
      "text/html": [
       "<pre style=\"white-space:pre;overflow-x:auto;line-height:normal;font-family:Menlo,'DejaVu Sans Mono',consolas,'Courier New',monospace\"> Entering variable x_1\n",
       "</pre>\n"
      ],
      "text/plain": [
       " Entering variable x_1\n"
      ]
     },
     "metadata": {},
     "output_type": "display_data"
    },
    {
     "data": {
      "text/html": [
       "<pre style=\"white-space:pre;overflow-x:auto;line-height:normal;font-family:Menlo,'DejaVu Sans Mono',consolas,'Courier New',monospace\"> Leaving variable x_4\n",
       "\n",
       "</pre>\n"
      ],
      "text/plain": [
       " Leaving variable x_4\n",
       "\n"
      ]
     },
     "metadata": {},
     "output_type": "display_data"
    },
    {
     "data": {
      "text/html": [
       "<pre style=\"white-space:pre;overflow-x:auto;line-height:normal;font-family:Menlo,'DejaVu Sans Mono',consolas,'Courier New',monospace\">Iteration <span style=\"color: #008080; text-decoration-color: #008080; font-weight: bold\">1</span>\n",
       " Chvátal dictionary \n",
       "       RHS  x_4  x_2  x_3\n",
       "x_1   <span style=\"color: #008080; text-decoration-color: #008080; font-weight: bold\">2.5</span> <span style=\"color: #008080; text-decoration-color: #008080; font-weight: bold\">-0.5</span> <span style=\"color: #008080; text-decoration-color: #008080; font-weight: bold\">-1.5</span> <span style=\"color: #008080; text-decoration-color: #008080; font-weight: bold\">-0.5</span>\n",
       "x_5   <span style=\"color: #008080; text-decoration-color: #008080; font-weight: bold\">1.0</span>  <span style=\"color: #008080; text-decoration-color: #008080; font-weight: bold\">2.0</span>  <span style=\"color: #008080; text-decoration-color: #008080; font-weight: bold\">5.0</span>  <span style=\"color: #008080; text-decoration-color: #008080; font-weight: bold\">0.0</span>\n",
       "x_6   <span style=\"color: #008080; text-decoration-color: #008080; font-weight: bold\">0.5</span>  <span style=\"color: #008080; text-decoration-color: #008080; font-weight: bold\">1.5</span>  <span style=\"color: #008080; text-decoration-color: #008080; font-weight: bold\">0.5</span> <span style=\"color: #008080; text-decoration-color: #008080; font-weight: bold\">-0.5</span>\n",
       "z    <span style=\"color: #008080; text-decoration-color: #008080; font-weight: bold\">12.5</span> <span style=\"color: #008080; text-decoration-color: #008080; font-weight: bold\">-2.5</span> <span style=\"color: #008080; text-decoration-color: #008080; font-weight: bold\">-3.5</span>  <span style=\"color: #008080; text-decoration-color: #008080; font-weight: bold\">0.5</span>\n",
       "</pre>\n"
      ],
      "text/plain": [
       "Iteration \u001b[1;36m1\u001b[0m\n",
       " Chvátal dictionary \n",
       "       RHS  x_4  x_2  x_3\n",
       "x_1   \u001b[1;36m2.5\u001b[0m \u001b[1;36m-0.5\u001b[0m \u001b[1;36m-1.5\u001b[0m \u001b[1;36m-0.5\u001b[0m\n",
       "x_5   \u001b[1;36m1.0\u001b[0m  \u001b[1;36m2.0\u001b[0m  \u001b[1;36m5.0\u001b[0m  \u001b[1;36m0.0\u001b[0m\n",
       "x_6   \u001b[1;36m0.5\u001b[0m  \u001b[1;36m1.5\u001b[0m  \u001b[1;36m0.5\u001b[0m \u001b[1;36m-0.5\u001b[0m\n",
       "z    \u001b[1;36m12.5\u001b[0m \u001b[1;36m-2.5\u001b[0m \u001b[1;36m-3.5\u001b[0m  \u001b[1;36m0.5\u001b[0m\n"
      ]
     },
     "metadata": {},
     "output_type": "display_data"
    },
    {
     "data": {
      "text/html": [
       "<pre style=\"white-space:pre;overflow-x:auto;line-height:normal;font-family:Menlo,'DejaVu Sans Mono',consolas,'Courier New',monospace\"> Entering variable x_3\n",
       "</pre>\n"
      ],
      "text/plain": [
       " Entering variable x_3\n"
      ]
     },
     "metadata": {},
     "output_type": "display_data"
    },
    {
     "data": {
      "text/html": [
       "<pre style=\"white-space:pre;overflow-x:auto;line-height:normal;font-family:Menlo,'DejaVu Sans Mono',consolas,'Courier New',monospace\"> Leaving variable x_6\n",
       "\n",
       "</pre>\n"
      ],
      "text/plain": [
       " Leaving variable x_6\n",
       "\n"
      ]
     },
     "metadata": {},
     "output_type": "display_data"
    },
    {
     "data": {
      "text/html": [
       "<pre style=\"white-space:pre;overflow-x:auto;line-height:normal;font-family:Menlo,'DejaVu Sans Mono',consolas,'Courier New',monospace\">Iteration <span style=\"color: #008080; text-decoration-color: #008080; font-weight: bold\">2</span>\n",
       " Chvátal dictionary \n",
       "       RHS  x_4  x_2  x_6\n",
       "x_1   <span style=\"color: #008080; text-decoration-color: #008080; font-weight: bold\">2.0</span> <span style=\"color: #008080; text-decoration-color: #008080; font-weight: bold\">-2.0</span> <span style=\"color: #008080; text-decoration-color: #008080; font-weight: bold\">-2.0</span>  <span style=\"color: #008080; text-decoration-color: #008080; font-weight: bold\">1.0</span>\n",
       "x_5   <span style=\"color: #008080; text-decoration-color: #008080; font-weight: bold\">1.0</span>  <span style=\"color: #008080; text-decoration-color: #008080; font-weight: bold\">2.0</span>  <span style=\"color: #008080; text-decoration-color: #008080; font-weight: bold\">5.0</span> <span style=\"color: #008080; text-decoration-color: #008080; font-weight: bold\">-0.0</span>\n",
       "x_3   <span style=\"color: #008080; text-decoration-color: #008080; font-weight: bold\">1.0</span>  <span style=\"color: #008080; text-decoration-color: #008080; font-weight: bold\">3.0</span>  <span style=\"color: #008080; text-decoration-color: #008080; font-weight: bold\">1.0</span> <span style=\"color: #008080; text-decoration-color: #008080; font-weight: bold\">-2.0</span>\n",
       "z    <span style=\"color: #008080; text-decoration-color: #008080; font-weight: bold\">13.0</span> <span style=\"color: #008080; text-decoration-color: #008080; font-weight: bold\">-1.0</span> <span style=\"color: #008080; text-decoration-color: #008080; font-weight: bold\">-3.0</span> <span style=\"color: #008080; text-decoration-color: #008080; font-weight: bold\">-1.0</span>\n",
       "</pre>\n"
      ],
      "text/plain": [
       "Iteration \u001b[1;36m2\u001b[0m\n",
       " Chvátal dictionary \n",
       "       RHS  x_4  x_2  x_6\n",
       "x_1   \u001b[1;36m2.0\u001b[0m \u001b[1;36m-2.0\u001b[0m \u001b[1;36m-2.0\u001b[0m  \u001b[1;36m1.0\u001b[0m\n",
       "x_5   \u001b[1;36m1.0\u001b[0m  \u001b[1;36m2.0\u001b[0m  \u001b[1;36m5.0\u001b[0m \u001b[1;36m-0.0\u001b[0m\n",
       "x_3   \u001b[1;36m1.0\u001b[0m  \u001b[1;36m3.0\u001b[0m  \u001b[1;36m1.0\u001b[0m \u001b[1;36m-2.0\u001b[0m\n",
       "z    \u001b[1;36m13.0\u001b[0m \u001b[1;36m-1.0\u001b[0m \u001b[1;36m-3.0\u001b[0m \u001b[1;36m-1.0\u001b[0m\n"
      ]
     },
     "metadata": {},
     "output_type": "display_data"
    }
   ],
   "source": [
    "next_iteration = True\n",
    "\n",
    "# iteration counter\n",
    "it = 0\n",
    "\n",
    "variable_id_to_name = dict(zip(range(n+m),[f'x_{i+1}' for i in range(n+m)]))\n",
    "\n",
    "# variable ids that will take on zero values\n",
    "nonbasic = [i for i in range(n)]\n",
    "\n",
    "# variable ids that will take on nonzero values\n",
    "basic = [i for i in range(n,n+m)]\n",
    "\n",
    "row_lookup_it = {}\n",
    "# row_lookup_it[i] is a dictionary telling us the id of the \n",
    "# decision variable corresponding to any row in the Chvátal \n",
    "# dictionary for iteration i\n",
    "row_lookup_it[it] = dict( zip(range(m), basic) )\n",
    "\n",
    "col_lookup_it = {}\n",
    "# col_lookup_it[i] is a dictionary telling us the id of the \n",
    "# decision variable corresponding to any column (strictly greater than 0) \n",
    "# in the Chvátal dictionary for iteration i\n",
    "# We ignore column 0 since we use it to store the right hand sides.\n",
    "col_lookup_it[it] = dict( zip(range(1,n+1), nonbasic) )\n",
    "\n",
    "z_star = 0\n",
    "\n",
    "cd_it = {}\n",
    "cd_it[it] = np.vstack( [ np.hstack([b, -A]), np.vstack( [ [z_star] , c ]).T ] )\n",
    "\n",
    "cd_df = get_chvatal_df(cd_it[it],\n",
    "                       row_lookup_it[it],\n",
    "                       col_lookup_it[it])\n",
    "print(f'Iteration {it}\\n Chvátal dictionary \\n {cd_df}')\n",
    "\n",
    "if np.min( cd_it[it][ FIRST_ROW : ALL_BUT_LAST_ROW, FIRST_COLUMN ] ) < 0:\n",
    "  # This means that some basic variable takes on a negative\n",
    "  # value in the starting solution.\n",
    "  print('Stopping. Infeasible starting solution.')\n",
    "else:\n",
    "  while next_iteration:\n",
    "    entering_column = get_entering_column(cd_it[it])\n",
    "\n",
    "    if entering_column is None:\n",
    "      next_iteration = False\n",
    "    else:\n",
    "      # get the identifier for the variable that corresponds to\n",
    "      # the entering column\n",
    "      entering_var_id = col_lookup_it[it][entering_column]\n",
    "      entering_var_name = variable_id_to_name[entering_var_id]\n",
    "      print(f' Entering variable {entering_var_name}')\n",
    "\n",
    "      leaving_row = get_leaving_row(cd_it[it], entering_column)\n",
    "\n",
    "      # get the identifier for the variable that corresponds to\n",
    "      # the leaving row\n",
    "      leaving_var_id = row_lookup_it[it][leaving_row]\n",
    "      leaving_var_name = variable_id_to_name[leaving_var_id]\n",
    "      print(f' Leaving variable {leaving_var_name}\\n')\n",
    "\n",
    "      basic, nonbasic, cd = get_next_dictionary(cd_it[it],\n",
    "                                                leaving_row,\n",
    "                                                entering_column,\n",
    "                                                row_lookup_it[it],\n",
    "                                                col_lookup_it[it])\n",
    "      \n",
    "      # Update\n",
    "      it += 1\n",
    "\n",
    "      row_lookup_it[it] = basic\n",
    "      col_lookup_it[it] = nonbasic\n",
    "      cd_it[it] = cd\n",
    "\n",
    "      # Pretty print the updated dictionary\n",
    "      cd_df = get_chvatal_df(cd,\n",
    "                            basic,\n",
    "                            nonbasic)\n",
    "      print(f'Iteration {it}\\n Chvátal dictionary \\n {cd_df}')"
   ]
  },
  {
   "cell_type": "markdown",
   "metadata": {},
   "source": [
    "# Next steps\n",
    "We will continue to expand on this basic implementation (and rectify it's many deficiences) in future posts."
   ]
  },
  {
   "cell_type": "markdown",
   "metadata": {},
   "source": [
    "# References\n",
    "{% bibliography --cited %}"
   ]
  }
 ],
 "metadata": {
  "kernelspec": {
   "display_name": "Python 3 (ipykernel)",
   "language": "python",
   "name": "python3"
  }
 },
 "nbformat": 4,
 "nbformat_minor": 4
}
