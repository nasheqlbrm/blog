{
 "cells": [
  {
   "cell_type": "raw",
   "id": "24ad339a",
   "metadata": {},
   "source": [
    "---\n",
    "aliases:\n",
    "- /fastai/jupyter/2021/08/06/MNIST-Threes-And-Sevens\n",
    "badges: true\n",
    "categories:\n",
    "- fastai\n",
    "- jupyter\n",
    "date: '2021-08-06'\n",
    "description: Using Fastai to classify threes and sevens from the MNIST dataset.\n",
    "output-file: 2021-08-06-mnist-threes-and-sevens.html\n",
    "title: 'MNIST: Distinguishing Threes from Sevens'\n",
    "bibliography: ../references.bib\n",
    "csl: ../control-and-automation.csl\n",
    "toc: true\n",
    "\n",
    "---\n",
    "\n"
   ]
  },
  {
   "cell_type": "markdown",
   "id": "necessary-honey",
   "metadata": {},
   "source": [
    "# Introduction\n",
    "\n",
    "I am following along with Chapter 4 of @fastbook2020."
   ]
  },
  {
   "cell_type": "markdown",
   "id": "urban-configuration",
   "metadata": {},
   "source": [
    "## Download dataset"
   ]
  },
  {
   "cell_type": "code",
   "execution_count": null,
   "id": "funny-teens",
   "metadata": {},
   "outputs": [],
   "source": [
    "from fastai.vision.all import *"
   ]
  },
  {
   "cell_type": "code",
   "execution_count": null,
   "id": "maritime-moses",
   "metadata": {},
   "outputs": [],
   "source": [
    "#collapse-output\n",
    "path = untar_data(URLs.MNIST_SAMPLE)"
   ]
  },
  {
   "cell_type": "markdown",
   "id": "central-denial",
   "metadata": {},
   "source": [
    "So what got downloaded?"
   ]
  },
  {
   "cell_type": "code",
   "execution_count": null,
   "id": "every-portugal",
   "metadata": {},
   "outputs": [
    {
     "data": {
      "text/plain": [
       "(#3) [Path('/data/kaushik/.fastai/data/mnist_sample/valid'),Path('/data/kaushik/.fastai/data/mnist_sample/train'),Path('/data/kaushik/.fastai/data/mnist_sample/labels.csv')]"
      ]
     },
     "execution_count": null,
     "metadata": {},
     "output_type": "execute_result"
    }
   ],
   "source": [
    "path.ls()"
   ]
  },
  {
   "cell_type": "markdown",
   "id": "innovative-glucose",
   "metadata": {},
   "source": [
    "That huge path is a pain to look at so shorten it by setting the BASE_PATH."
   ]
  },
  {
   "cell_type": "code",
   "execution_count": null,
   "id": "breeding-cooper",
   "metadata": {},
   "outputs": [
    {
     "data": {
      "text/plain": [
       "(#3) [Path('valid'),Path('train'),Path('labels.csv')]"
      ]
     },
     "execution_count": null,
     "metadata": {},
     "output_type": "execute_result"
    }
   ],
   "source": [
    "Path.BASE_PATH = path\n",
    "path.ls()"
   ]
  },
  {
   "cell_type": "markdown",
   "id": "comfortable-baseball",
   "metadata": {},
   "source": [
    "What do we have under train?"
   ]
  },
  {
   "cell_type": "code",
   "execution_count": null,
   "id": "persistent-discharge",
   "metadata": {},
   "outputs": [
    {
     "data": {
      "text/plain": [
       "(#2) [Path('train/3'),Path('train/7')]"
      ]
     },
     "execution_count": null,
     "metadata": {},
     "output_type": "execute_result"
    }
   ],
   "source": [
    "(path/'train').ls()"
   ]
  },
  {
   "cell_type": "markdown",
   "id": "accurate-canadian",
   "metadata": {},
   "source": [
    "What do we have under the 7?"
   ]
  },
  {
   "cell_type": "code",
   "execution_count": null,
   "id": "quarterly-block",
   "metadata": {},
   "outputs": [
    {
     "data": {
      "text/plain": [
       "(#6265) [Path('train/7/10002.png'),Path('train/7/1001.png'),Path('train/7/10014.png'),Path('train/7/10019.png'),Path('train/7/10039.png'),Path('train/7/10046.png'),Path('train/7/10050.png'),Path('train/7/10063.png'),Path('train/7/10077.png'),Path('train/7/10086.png')...]"
      ]
     },
     "execution_count": null,
     "metadata": {},
     "output_type": "execute_result"
    }
   ],
   "source": [
    "(path/'train'/'7').ls().sorted()"
   ]
  },
  {
   "cell_type": "markdown",
   "id": "understood-melissa",
   "metadata": {},
   "source": [
    "We have 6,265 images of sevens. Look at one using the PIL library."
   ]
  },
  {
   "cell_type": "code",
   "execution_count": null,
   "id": "fifth-tucson",
   "metadata": {},
   "outputs": [
    {
     "data": {
      "image/png": "[encoded data removed]",
      "text/plain": [
       "<PIL.PngImagePlugin.PngImageFile image mode=L size=28x28>"
      ]
     },
     "execution_count": null,
     "metadata": {},
     "output_type": "execute_result"
    }
   ],
   "source": [
    "Image.open((path/'train'/'7').ls().sorted()[0])"
   ]
  },
  {
   "cell_type": "code",
   "execution_count": null,
   "id": "brutal-arcade",
   "metadata": {},
   "outputs": [
    {
     "data": {
      "text/plain": [
       "(6265, 6131)"
      ]
     },
     "execution_count": null,
     "metadata": {},
     "output_type": "execute_result"
    }
   ],
   "source": [
    "seven_tensors = [tensor(Image.open(pic_path)).float()/255. for pic_path in (path/'train'/'7').ls().sorted()]\n",
    "three_tensors = [tensor(Image.open(pic_path)).float()/255. for pic_path in (path/'train'/'3').ls().sorted()]\n",
    "len(seven_tensors), len(three_tensors)"
   ]
  },
  {
   "cell_type": "markdown",
   "id": "great-publisher",
   "metadata": {},
   "source": [
    "Use Fastai convenience function _show\\_image_ to display the tensor"
   ]
  },
  {
   "cell_type": "code",
   "execution_count": null,
   "id": "acquired-galaxy",
   "metadata": {},
   "outputs": [
    {
     "data": {
      "text/plain": [
       "<AxesSubplot:>"
      ]
     },
     "execution_count": null,
     "metadata": {},
     "output_type": "execute_result"
    },
    {
     "data": {
      "image/png": "[encoded data removed]",
      "text/plain": [
       "<Figure size 72x72 with 1 Axes>"
      ]
     },
     "metadata": {
      "needs_background": "light"
     },
     "output_type": "display_data"
    }
   ],
   "source": [
    "show_image(seven_tensors[0])"
   ]
  },
  {
   "cell_type": "code",
   "execution_count": null,
   "id": "distributed-improvement",
   "metadata": {},
   "outputs": [
    {
     "data": {
      "text/plain": [
       "(torch.Size([6265, 28, 28]), torch.Size([6131, 28, 28]))"
      ]
     },
     "execution_count": null,
     "metadata": {},
     "output_type": "execute_result"
    }
   ],
   "source": [
    "stacked_sevens = torch.stack(seven_tensors)\n",
    "stacked_threes = torch.stack(three_tensors)\n",
    "stacked_sevens.shape, stacked_threes.shape"
   ]
  },
  {
   "cell_type": "markdown",
   "id": "magnetic-burden",
   "metadata": {},
   "source": [
    "# Assemble train and validation set\n",
    "\n",
    "Assemble the training data. Each input will be a vector of 784 values."
   ]
  },
  {
   "cell_type": "code",
   "execution_count": null,
   "id": "yellow-glucose",
   "metadata": {},
   "outputs": [
    {
     "data": {
      "text/plain": [
       "(torch.Size([12396, 784]), torch.Size([12396, 1]))"
      ]
     },
     "execution_count": null,
     "metadata": {},
     "output_type": "execute_result"
    }
   ],
   "source": [
    "train_x = torch.cat([stacked_threes, stacked_sevens]).view(-1,28*28)\n",
    "train_y = tensor([1]*len(three_tensors) + [0]*len(seven_tensors)).unsqueeze(1)\n",
    "train_x.shape, train_y.shape"
   ]
  },
  {
   "cell_type": "markdown",
   "id": "heated-percentage",
   "metadata": {},
   "source": [
    "Assemble the validation data"
   ]
  },
  {
   "cell_type": "code",
   "execution_count": null,
   "id": "deluxe-update",
   "metadata": {},
   "outputs": [
    {
     "data": {
      "text/plain": [
       "(torch.Size([1028, 28, 28]), torch.Size([1010, 28, 28]))"
      ]
     },
     "execution_count": null,
     "metadata": {},
     "output_type": "execute_result"
    }
   ],
   "source": [
    "valid_7_tensors = torch.stack([tensor(Image.open(pic_path)).float()/255. for pic_path in (path/'valid'/'7').ls().sorted()])\n",
    "valid_3_tensors = torch.stack([tensor(Image.open(pic_path)).float()/255. for pic_path in (path/'valid'/'3').ls().sorted()])\n",
    "valid_7_tensors.shape, valid_3_tensors.shape"
   ]
  },
  {
   "cell_type": "code",
   "execution_count": null,
   "id": "starting-payroll",
   "metadata": {},
   "outputs": [
    {
     "data": {
      "text/plain": [
       "(torch.Size([2038, 784]), torch.Size([2038, 1]))"
      ]
     },
     "execution_count": null,
     "metadata": {},
     "output_type": "execute_result"
    }
   ],
   "source": [
    "valid_x = torch.cat([valid_3_tensors, valid_7_tensors]).view(-1,28*28)\n",
    "valid_y = tensor([1]*len(valid_3_tensors) + [0]*len(valid_7_tensors)).unsqueeze(1)\n",
    "valid_x.shape, valid_y.shape"
   ]
  },
  {
   "cell_type": "markdown",
   "id": "rotary-healthcare",
   "metadata": {},
   "source": [
    "# Initialize Parameters"
   ]
  },
  {
   "cell_type": "code",
   "execution_count": null,
   "id": "disciplinary-entry",
   "metadata": {},
   "outputs": [],
   "source": [
    "def init_params(size, std=1.0): return (torch.randn(size)*std).requires_grad_()"
   ]
  },
  {
   "cell_type": "markdown",
   "id": "proper-jewel",
   "metadata": {},
   "source": [
    "We have one weight for each pixel in the image. We will also have a bias term."
   ]
  },
  {
   "cell_type": "code",
   "execution_count": null,
   "id": "formed-liabilities",
   "metadata": {},
   "outputs": [
    {
     "data": {
      "text/plain": [
       "(torch.Size([784, 1]), torch.Size([1]))"
      ]
     },
     "execution_count": null,
     "metadata": {},
     "output_type": "execute_result"
    }
   ],
   "source": [
    "weights = init_params((28*28,1))\n",
    "bias = init_params(1)\n",
    "weights.shape, bias.shape"
   ]
  },
  {
   "cell_type": "markdown",
   "id": "tracked-music",
   "metadata": {},
   "source": [
    "# Get Predictions\n",
    "Calculate the prediction for a single image"
   ]
  },
  {
   "cell_type": "code",
   "execution_count": null,
   "id": "exposed-israeli",
   "metadata": {},
   "outputs": [
    {
     "data": {
      "text/plain": [
       "tensor([3.9740], grad_fn=<AddBackward0>)"
      ]
     },
     "execution_count": null,
     "metadata": {},
     "output_type": "execute_result"
    }
   ],
   "source": [
    "(train_x[0]*weights.T).sum() + bias"
   ]
  },
  {
   "cell_type": "code",
   "execution_count": null,
   "id": "answering-judges",
   "metadata": {},
   "outputs": [
    {
     "data": {
      "text/plain": [
       "(torch.Size([784]),\n",
       " torch.Size([784, 1]),\n",
       " torch.Size([1, 784]),\n",
       " torch.Size([784, 784]))"
      ]
     },
     "execution_count": null,
     "metadata": {},
     "output_type": "execute_result"
    }
   ],
   "source": [
    "train_x[0].shape, weights.shape, weights.T.shape, (train_x[0]*weights).shape"
   ]
  },
  {
   "cell_type": "code",
   "execution_count": null,
   "id": "quality-midnight",
   "metadata": {},
   "outputs": [
    {
     "data": {
      "text/plain": [
       "tensor([[ 3.9740],\n",
       "        [-0.7695],\n",
       "        [ 2.8669],\n",
       "        ...,\n",
       "        [-2.1245],\n",
       "        [-6.0483],\n",
       "        [-9.3377]], grad_fn=<AddBackward0>)"
      ]
     },
     "execution_count": null,
     "metadata": {},
     "output_type": "execute_result"
    }
   ],
   "source": [
    "def linear1(xb): return xb @ weights + bias\n",
    "preds = linear1(train_x)\n",
    "preds"
   ]
  },
  {
   "cell_type": "markdown",
   "id": "hungry-standard",
   "metadata": {},
   "source": [
    "# Compute Loss"
   ]
  },
  {
   "cell_type": "code",
   "execution_count": null,
   "id": "moderate-victor",
   "metadata": {},
   "outputs": [],
   "source": [
    "def sigmoid(x): return 1./(1. + torch.exp(-x))"
   ]
  },
  {
   "cell_type": "code",
   "execution_count": null,
   "id": "several-gravity",
   "metadata": {},
   "outputs": [],
   "source": [
    "def mnist_loss(predictions, targets):\n",
    "    preds = predictions.sigmoid()\n",
    "    return torch.where(targets==1, 1-preds, preds).mean()"
   ]
  },
  {
   "cell_type": "code",
   "execution_count": null,
   "id": "promising-times",
   "metadata": {},
   "outputs": [
    {
     "data": {
      "text/plain": [
       "tensor(0.3764, grad_fn=<MeanBackward0>)"
      ]
     },
     "execution_count": null,
     "metadata": {},
     "output_type": "execute_result"
    }
   ],
   "source": [
    "mnist_loss(preds, train_y)"
   ]
  },
  {
   "cell_type": "markdown",
   "id": "dominican-studio",
   "metadata": {},
   "source": [
    "# Mini-Batches"
   ]
  },
  {
   "cell_type": "code",
   "execution_count": null,
   "id": "informative-lease",
   "metadata": {},
   "outputs": [
    {
     "data": {
      "text/plain": [
       "(#26) [(0, 'a'),(1, 'b'),(2, 'c'),(3, 'd'),(4, 'e'),(5, 'f'),(6, 'g'),(7, 'h'),(8, 'i'),(9, 'j')...]"
      ]
     },
     "execution_count": null,
     "metadata": {},
     "output_type": "execute_result"
    }
   ],
   "source": [
    "ds = L(enumerate(string.ascii_lowercase))\n",
    "ds"
   ]
  },
  {
   "cell_type": "markdown",
   "id": "organized-expansion",
   "metadata": {},
   "source": [
    "Each mini-batch is a tuple of some number of training examples and their corresponding labels"
   ]
  },
  {
   "cell_type": "code",
   "execution_count": null,
   "id": "falling-vessel",
   "metadata": {},
   "outputs": [
    {
     "data": {
      "text/plain": [
       "((tensor([ 5, 20, 14, 11, 13]), ('f', 'u', 'o', 'l', 'n')),\n",
       " [(tensor([ 1, 13, 14,  7,  0]), ('b', 'n', 'o', 'h', 'a')),\n",
       "  (tensor([ 8, 16,  4, 17, 19]), ('i', 'q', 'e', 'r', 't')),\n",
       "  (tensor([11,  6,  2, 20, 15]), ('l', 'g', 'c', 'u', 'p')),\n",
       "  (tensor([ 9, 18, 21, 12, 22]), ('j', 's', 'v', 'm', 'w')),\n",
       "  (tensor([24, 25, 10,  3,  5]), ('y', 'z', 'k', 'd', 'f')),\n",
       "  (tensor([23]), ('x',))])"
      ]
     },
     "execution_count": null,
     "metadata": {},
     "output_type": "execute_result"
    }
   ],
   "source": [
    "dl = DataLoader(ds,batch_size=5,shuffle=True)\n",
    "first(dl), list(dl)"
   ]
  },
  {
   "cell_type": "code",
   "execution_count": null,
   "id": "complete-immigration",
   "metadata": {},
   "outputs": [],
   "source": [
    "dset = list(zip(train_x, train_y))\n",
    "dl = DataLoader(dset, batch_size=256)\n",
    "\n",
    "valid_dset = list(zip(valid_x, valid_y))\n",
    "valid_dl = DataLoader(valid_dset, batch_size=256)"
   ]
  },
  {
   "cell_type": "markdown",
   "id": "european-ottawa",
   "metadata": {},
   "source": [
    "Simulate a batch of training examples."
   ]
  },
  {
   "cell_type": "code",
   "execution_count": null,
   "id": "cutting-phenomenon",
   "metadata": {},
   "outputs": [
    {
     "data": {
      "text/plain": [
       "torch.Size([4, 784])"
      ]
     },
     "execution_count": null,
     "metadata": {},
     "output_type": "execute_result"
    }
   ],
   "source": [
    "batch = train_x[:4]\n",
    "batch.shape"
   ]
  },
  {
   "cell_type": "code",
   "execution_count": null,
   "id": "prime-occasion",
   "metadata": {},
   "outputs": [
    {
     "data": {
      "text/plain": [
       "tensor([[ 3.9740],\n",
       "        [-0.7695],\n",
       "        [ 2.8669],\n",
       "        [-6.0669]], grad_fn=<AddBackward0>)"
      ]
     },
     "execution_count": null,
     "metadata": {},
     "output_type": "execute_result"
    }
   ],
   "source": [
    "preds = linear1(batch)\n",
    "preds"
   ]
  },
  {
   "cell_type": "code",
   "execution_count": null,
   "id": "fifty-tunisia",
   "metadata": {},
   "outputs": [
    {
     "data": {
      "text/plain": [
       "tensor(0.4383, grad_fn=<MeanBackward0>)"
      ]
     },
     "execution_count": null,
     "metadata": {},
     "output_type": "execute_result"
    }
   ],
   "source": [
    "loss = mnist_loss(preds, train_y[:4])\n",
    "loss"
   ]
  },
  {
   "cell_type": "code",
   "execution_count": null,
   "id": "light-exhibition",
   "metadata": {},
   "outputs": [
    {
     "data": {
      "text/plain": [
       "(torch.Size([784, 1]), tensor(-0.0103), tensor([-0.0719]))"
      ]
     },
     "execution_count": null,
     "metadata": {},
     "output_type": "execute_result"
    }
   ],
   "source": [
    "loss.backward()\n",
    "weights.grad.shape, weights.grad.mean(), bias.grad"
   ]
  },
  {
   "cell_type": "markdown",
   "id": "spread-champagne",
   "metadata": {},
   "source": [
    "# Gradient computation"
   ]
  },
  {
   "cell_type": "code",
   "execution_count": null,
   "id": "basic-intervention",
   "metadata": {},
   "outputs": [],
   "source": [
    "def calc_grad(xb,yb,model):\n",
    "    preds = model(xb)\n",
    "    loss = mnist_loss(preds, yb)\n",
    "    loss.backward()"
   ]
  },
  {
   "cell_type": "markdown",
   "id": "public-nation",
   "metadata": {},
   "source": [
    "# Train"
   ]
  },
  {
   "cell_type": "code",
   "execution_count": null,
   "id": "intellectual-garage",
   "metadata": {},
   "outputs": [],
   "source": [
    "def train_epoch(model, lr, params):\n",
    "    for xb, yb in dl:\n",
    "        calc_grad(xb,yb,model)\n",
    "        for p in params:\n",
    "            p.data -= p.grad*lr\n",
    "            p.grad.zero_()"
   ]
  },
  {
   "cell_type": "markdown",
   "id": "destroyed-business",
   "metadata": {},
   "source": [
    "## Batch Accuracy"
   ]
  },
  {
   "cell_type": "code",
   "execution_count": null,
   "id": "creative-focus",
   "metadata": {},
   "outputs": [],
   "source": [
    "def batch_accuracy(preds, yb):\n",
    "    preds = preds.sigmoid() #note\n",
    "    correct = (preds > 0.5).float() == yb\n",
    "    return correct.float().mean()"
   ]
  },
  {
   "cell_type": "code",
   "execution_count": null,
   "id": "ranking-nothing",
   "metadata": {},
   "outputs": [
    {
     "data": {
      "text/plain": [
       "tensor(0.5000)"
      ]
     },
     "execution_count": null,
     "metadata": {},
     "output_type": "execute_result"
    }
   ],
   "source": [
    "batch_accuracy(linear1(batch), train_y[:4])"
   ]
  },
  {
   "cell_type": "code",
   "execution_count": null,
   "id": "requested-china",
   "metadata": {},
   "outputs": [],
   "source": [
    "def validate_epoch(model):\n",
    "    accs = [batch_accuracy(model(xb), yb) for xb, yb in valid_dl]\n",
    "    return round(torch.stack(accs).mean().item(), 4)"
   ]
  },
  {
   "cell_type": "code",
   "execution_count": null,
   "id": "agricultural-invention",
   "metadata": {},
   "outputs": [
    {
     "data": {
      "text/plain": [
       "0.6533"
      ]
     },
     "execution_count": null,
     "metadata": {},
     "output_type": "execute_result"
    }
   ],
   "source": [
    "validate_epoch(linear1)"
   ]
  },
  {
   "cell_type": "markdown",
   "id": "fallen-saskatchewan",
   "metadata": {},
   "source": [
    "Train one epoch"
   ]
  },
  {
   "cell_type": "code",
   "execution_count": null,
   "id": "northern-tractor",
   "metadata": {},
   "outputs": [
    {
     "data": {
      "text/plain": [
       "0.6836"
      ]
     },
     "execution_count": null,
     "metadata": {},
     "output_type": "execute_result"
    }
   ],
   "source": [
    "lr = 1\n",
    "\n",
    "weights = init_params((28*28,1))\n",
    "bias = init_params(1)\n",
    "params = weights, bias\n",
    "\n",
    "train_epoch(linear1, lr, params)\n",
    "validate_epoch(linear1)"
   ]
  },
  {
   "cell_type": "markdown",
   "id": "relevant-completion",
   "metadata": {},
   "source": [
    "Train multiple epochs"
   ]
  },
  {
   "cell_type": "code",
   "execution_count": null,
   "id": "variable-arabic",
   "metadata": {},
   "outputs": [
    {
     "name": "stdout",
     "output_type": "stream",
     "text": [
      "0.6765 0.8387 0.8988 0.9267 0.9374 0.9462 0.954 0.9565 0.9599 0.9618 0.9638 0.9653 0.9667 0.9682 0.9682 0.9706 0.9711 0.9721 0.9721 0.9721 "
     ]
    }
   ],
   "source": [
    "lr = 1\n",
    "\n",
    "weights = init_params((28*28,1))\n",
    "bias = init_params(1)\n",
    "params = weights, bias\n",
    "\n",
    "for i in range(20):\n",
    "    train_epoch(linear1, lr, params)\n",
    "    print(validate_epoch(linear1), end=' ')"
   ]
  },
  {
   "cell_type": "markdown",
   "id": "fixed-summit",
   "metadata": {},
   "source": [
    "# Refactor"
   ]
  },
  {
   "cell_type": "markdown",
   "id": "twelve-equation",
   "metadata": {},
   "source": [
    "## Replace gradient update with a home grown optimizer"
   ]
  },
  {
   "cell_type": "code",
   "execution_count": null,
   "id": "remarkable-peace",
   "metadata": {},
   "outputs": [],
   "source": [
    "class BasicOptim(nn.Module):\n",
    "    def __init__(self,params,lr): self.params, self.lr = list(params), lr\n",
    "        \n",
    "    def step(self,*args,**kwargs): \n",
    "        for p in self.params: p.data -= p.grad*self.lr\n",
    "            \n",
    "    def zero_grad(self,*args,**kwargs): \n",
    "        for p in self.params: p.grad = None"
   ]
  },
  {
   "cell_type": "code",
   "execution_count": null,
   "id": "sapphire-complexity",
   "metadata": {},
   "outputs": [
    {
     "name": "stdout",
     "output_type": "stream",
     "text": [
      "0.6269 0.8379 0.9174 0.9409 0.9496 0.9545 0.9589 0.9623 0.9658 0.9672 0.9687 0.9697 0.9692 0.9697 0.9721 0.9721 0.9721 0.9726 0.9726 0.9731 "
     ]
    }
   ],
   "source": [
    "lr = 1\n",
    "\n",
    "weights = init_params((28*28,1))\n",
    "bias = init_params(1)\n",
    "params = weights, bias\n",
    "\n",
    "opt = BasicOptim(params, lr)\n",
    "\n",
    "def train_epoch(model, lr, params):\n",
    "    for xb, yb in dl:\n",
    "        calc_grad(xb,yb,model)\n",
    "        opt.step()\n",
    "        opt.zero_grad()\n",
    "\n",
    "for i in range(20):\n",
    "    train_epoch(linear1, lr, params)\n",
    "    print(validate_epoch(linear1), end=' ')"
   ]
  },
  {
   "cell_type": "markdown",
   "id": "perceived-ordering",
   "metadata": {},
   "source": [
    "## Replace init_params and linear1 with Pytorch nn.Linear"
   ]
  },
  {
   "cell_type": "markdown",
   "id": "official-dallas",
   "metadata": {},
   "source": [
    "nn.Linear holds both the weights and bias and takes care of initializing the parameters."
   ]
  },
  {
   "cell_type": "code",
   "execution_count": null,
   "id": "fabulous-music",
   "metadata": {},
   "outputs": [
    {
     "data": {
      "text/plain": [
       "(torch.Size([1, 784]), torch.Size([1]))"
      ]
     },
     "execution_count": null,
     "metadata": {},
     "output_type": "execute_result"
    }
   ],
   "source": [
    "linear_model = nn.Linear(28*28,1)\n",
    "weights, bias = linear_model.parameters()\n",
    "weights.shape, bias.shape"
   ]
  },
  {
   "cell_type": "code",
   "execution_count": null,
   "id": "structural-verification",
   "metadata": {},
   "outputs": [
    {
     "name": "stdout",
     "output_type": "stream",
     "text": [
      "0.4932 0.4932 0.6816 0.8687 0.9185 0.936 0.9502 0.958 0.9638 0.9658 0.9678 0.9697 0.9712 0.9741 0.9746 0.9761 0.9765 0.9775 0.9785 0.9785 "
     ]
    }
   ],
   "source": [
    "lr = 1\n",
    "\n",
    "linear_model = nn.Linear(28*28,1)\n",
    "opt = BasicOptim(linear_model.parameters(), lr)\n",
    "\n",
    "def train_epoch(model, lr, params):\n",
    "    for xb, yb in dl:\n",
    "        calc_grad(xb,yb,model)\n",
    "        opt.step()\n",
    "        opt.zero_grad()\n",
    "\n",
    "for i in range(20):\n",
    "    train_epoch(linear_model, lr, params)\n",
    "    print(validate_epoch(linear_model), end=' ')"
   ]
  },
  {
   "cell_type": "markdown",
   "id": "photographic-expansion",
   "metadata": {},
   "source": [
    "## Replace home grown optimizer with fastai SGD"
   ]
  },
  {
   "cell_type": "code",
   "execution_count": null,
   "id": "scheduled-honor",
   "metadata": {},
   "outputs": [
    {
     "name": "stdout",
     "output_type": "stream",
     "text": [
      "0.4932 0.8447 0.8398 0.9126 0.9336 0.9478 0.9551 0.9629 0.9658 0.9678 0.9692 0.9717 0.9741 0.9751 0.9761 0.9761 0.977 0.978 0.9785 0.9785 "
     ]
    }
   ],
   "source": [
    "lr = 1\n",
    "\n",
    "linear_model = nn.Linear(28*28,1)\n",
    "opt = SGD(linear_model.parameters(), lr)\n",
    "\n",
    "def train_epoch(model, lr, params):\n",
    "    for xb, yb in dl:\n",
    "        calc_grad(xb,yb,model)\n",
    "        opt.step()\n",
    "        opt.zero_grad()\n",
    "\n",
    "for i in range(20):\n",
    "    train_epoch(linear_model, lr, params)\n",
    "    print(validate_epoch(linear_model), end=' ')"
   ]
  },
  {
   "cell_type": "markdown",
   "id": "quantitative-sharp",
   "metadata": {},
   "source": [
    "## Replace training loop with Fastai Learner.fit"
   ]
  },
  {
   "cell_type": "markdown",
   "id": "matched-intellectual",
   "metadata": {},
   "source": [
    "Observe how we are able to pass in the mnist_loss and batch_accuracy functions. Recall that within these functions we pass the predictions through the sigmoid function."
   ]
  },
  {
   "cell_type": "code",
   "execution_count": null,
   "id": "patent-azerbaijan",
   "metadata": {},
   "outputs": [
    {
     "data": {
      "text/html": [
       "<table border=\"1\" class=\"dataframe\">\n",
       "  <thead>\n",
       "    <tr style=\"text-align: left;\">\n",
       "      <th>epoch</th>\n",
       "      <th>train_loss</th>\n",
       "      <th>valid_loss</th>\n",
       "      <th>batch_accuracy</th>\n",
       "      <th>time</th>\n",
       "    </tr>\n",
       "  </thead>\n",
       "  <tbody>\n",
       "    <tr>\n",
       "      <td>0</td>\n",
       "      <td>0.637023</td>\n",
       "      <td>0.503487</td>\n",
       "      <td>0.495584</td>\n",
       "      <td>00:00</td>\n",
       "    </tr>\n",
       "    <tr>\n",
       "      <td>1</td>\n",
       "      <td>0.524831</td>\n",
       "      <td>0.192524</td>\n",
       "      <td>0.839058</td>\n",
       "      <td>00:00</td>\n",
       "    </tr>\n",
       "    <tr>\n",
       "      <td>2</td>\n",
       "      <td>0.192777</td>\n",
       "      <td>0.178215</td>\n",
       "      <td>0.840039</td>\n",
       "      <td>00:00</td>\n",
       "    </tr>\n",
       "    <tr>\n",
       "      <td>3</td>\n",
       "      <td>0.084406</td>\n",
       "      <td>0.105942</td>\n",
       "      <td>0.912169</td>\n",
       "      <td>00:00</td>\n",
       "    </tr>\n",
       "    <tr>\n",
       "      <td>4</td>\n",
       "      <td>0.044523</td>\n",
       "      <td>0.077318</td>\n",
       "      <td>0.933268</td>\n",
       "      <td>00:00</td>\n",
       "    </tr>\n",
       "    <tr>\n",
       "      <td>5</td>\n",
       "      <td>0.028958</td>\n",
       "      <td>0.061924</td>\n",
       "      <td>0.947988</td>\n",
       "      <td>00:00</td>\n",
       "    </tr>\n",
       "    <tr>\n",
       "      <td>6</td>\n",
       "      <td>0.022560</td>\n",
       "      <td>0.052394</td>\n",
       "      <td>0.955839</td>\n",
       "      <td>00:00</td>\n",
       "    </tr>\n",
       "    <tr>\n",
       "      <td>7</td>\n",
       "      <td>0.019714</td>\n",
       "      <td>0.046067</td>\n",
       "      <td>0.962709</td>\n",
       "      <td>00:00</td>\n",
       "    </tr>\n",
       "    <tr>\n",
       "      <td>8</td>\n",
       "      <td>0.018272</td>\n",
       "      <td>0.041615</td>\n",
       "      <td>0.966143</td>\n",
       "      <td>00:00</td>\n",
       "    </tr>\n",
       "    <tr>\n",
       "      <td>9</td>\n",
       "      <td>0.017409</td>\n",
       "      <td>0.038327</td>\n",
       "      <td>0.967125</td>\n",
       "      <td>00:00</td>\n",
       "    </tr>\n",
       "    <tr>\n",
       "      <td>10</td>\n",
       "      <td>0.016804</td>\n",
       "      <td>0.035799</td>\n",
       "      <td>0.969578</td>\n",
       "      <td>00:00</td>\n",
       "    </tr>\n",
       "    <tr>\n",
       "      <td>11</td>\n",
       "      <td>0.016330</td>\n",
       "      <td>0.033789</td>\n",
       "      <td>0.972031</td>\n",
       "      <td>00:00</td>\n",
       "    </tr>\n",
       "    <tr>\n",
       "      <td>12</td>\n",
       "      <td>0.015934</td>\n",
       "      <td>0.032144</td>\n",
       "      <td>0.973503</td>\n",
       "      <td>00:00</td>\n",
       "    </tr>\n",
       "    <tr>\n",
       "      <td>13</td>\n",
       "      <td>0.015597</td>\n",
       "      <td>0.030771</td>\n",
       "      <td>0.974975</td>\n",
       "      <td>00:00</td>\n",
       "    </tr>\n",
       "    <tr>\n",
       "      <td>14</td>\n",
       "      <td>0.015305</td>\n",
       "      <td>0.029609</td>\n",
       "      <td>0.975957</td>\n",
       "      <td>00:00</td>\n",
       "    </tr>\n",
       "    <tr>\n",
       "      <td>15</td>\n",
       "      <td>0.015053</td>\n",
       "      <td>0.028614</td>\n",
       "      <td>0.976938</td>\n",
       "      <td>00:00</td>\n",
       "    </tr>\n",
       "    <tr>\n",
       "      <td>16</td>\n",
       "      <td>0.014832</td>\n",
       "      <td>0.027755</td>\n",
       "      <td>0.977429</td>\n",
       "      <td>00:00</td>\n",
       "    </tr>\n",
       "    <tr>\n",
       "      <td>17</td>\n",
       "      <td>0.014637</td>\n",
       "      <td>0.027009</td>\n",
       "      <td>0.977920</td>\n",
       "      <td>00:00</td>\n",
       "    </tr>\n",
       "    <tr>\n",
       "      <td>18</td>\n",
       "      <td>0.014463</td>\n",
       "      <td>0.026354</td>\n",
       "      <td>0.978410</td>\n",
       "      <td>00:00</td>\n",
       "    </tr>\n",
       "    <tr>\n",
       "      <td>19</td>\n",
       "      <td>0.014305</td>\n",
       "      <td>0.025776</td>\n",
       "      <td>0.978901</td>\n",
       "      <td>00:00</td>\n",
       "    </tr>\n",
       "  </tbody>\n",
       "</table>"
      ],
      "text/plain": [
       "<IPython.core.display.HTML object>"
      ]
     },
     "metadata": {},
     "output_type": "display_data"
    }
   ],
   "source": [
    "#collapse-output\n",
    "dls = DataLoaders(dl, valid_dl)\n",
    "learn = Learner(dls, nn.Linear(28*28,1), loss_func=mnist_loss\n",
    "                , opt_func=SGD\n",
    "                , metrics = batch_accuracy)\n",
    "learn.fit(20,lr=1)"
   ]
  },
  {
   "cell_type": "markdown",
   "id": "serial-investigator",
   "metadata": {},
   "source": [
    "# Add a rectified linear unit"
   ]
  },
  {
   "cell_type": "code",
   "execution_count": null,
   "id": "psychological-fleece",
   "metadata": {},
   "outputs": [
    {
     "data": {
      "text/html": [
       "<table border=\"1\" class=\"dataframe\">\n",
       "  <thead>\n",
       "    <tr style=\"text-align: left;\">\n",
       "      <th>epoch</th>\n",
       "      <th>train_loss</th>\n",
       "      <th>valid_loss</th>\n",
       "      <th>batch_accuracy</th>\n",
       "      <th>time</th>\n",
       "    </tr>\n",
       "  </thead>\n",
       "  <tbody>\n",
       "    <tr>\n",
       "      <td>0</td>\n",
       "      <td>0.334276</td>\n",
       "      <td>0.397611</td>\n",
       "      <td>0.510304</td>\n",
       "      <td>00:00</td>\n",
       "    </tr>\n",
       "    <tr>\n",
       "      <td>1</td>\n",
       "      <td>0.153756</td>\n",
       "      <td>0.235990</td>\n",
       "      <td>0.795878</td>\n",
       "      <td>00:00</td>\n",
       "    </tr>\n",
       "    <tr>\n",
       "      <td>2</td>\n",
       "      <td>0.084339</td>\n",
       "      <td>0.117733</td>\n",
       "      <td>0.915113</td>\n",
       "      <td>00:00</td>\n",
       "    </tr>\n",
       "    <tr>\n",
       "      <td>3</td>\n",
       "      <td>0.054809</td>\n",
       "      <td>0.079118</td>\n",
       "      <td>0.940137</td>\n",
       "      <td>00:00</td>\n",
       "    </tr>\n",
       "    <tr>\n",
       "      <td>4</td>\n",
       "      <td>0.041189</td>\n",
       "      <td>0.061640</td>\n",
       "      <td>0.954367</td>\n",
       "      <td>00:00</td>\n",
       "    </tr>\n",
       "    <tr>\n",
       "      <td>5</td>\n",
       "      <td>0.034297</td>\n",
       "      <td>0.051851</td>\n",
       "      <td>0.963690</td>\n",
       "      <td>00:00</td>\n",
       "    </tr>\n",
       "    <tr>\n",
       "      <td>6</td>\n",
       "      <td>0.030381</td>\n",
       "      <td>0.045687</td>\n",
       "      <td>0.965653</td>\n",
       "      <td>00:00</td>\n",
       "    </tr>\n",
       "    <tr>\n",
       "      <td>7</td>\n",
       "      <td>0.027859</td>\n",
       "      <td>0.041476</td>\n",
       "      <td>0.966634</td>\n",
       "      <td>00:00</td>\n",
       "    </tr>\n",
       "    <tr>\n",
       "      <td>8</td>\n",
       "      <td>0.026048</td>\n",
       "      <td>0.038415</td>\n",
       "      <td>0.968106</td>\n",
       "      <td>00:00</td>\n",
       "    </tr>\n",
       "    <tr>\n",
       "      <td>9</td>\n",
       "      <td>0.024647</td>\n",
       "      <td>0.036075</td>\n",
       "      <td>0.969578</td>\n",
       "      <td>00:00</td>\n",
       "    </tr>\n",
       "    <tr>\n",
       "      <td>10</td>\n",
       "      <td>0.023509</td>\n",
       "      <td>0.034219</td>\n",
       "      <td>0.971541</td>\n",
       "      <td>00:00</td>\n",
       "    </tr>\n",
       "    <tr>\n",
       "      <td>11</td>\n",
       "      <td>0.022557</td>\n",
       "      <td>0.032701</td>\n",
       "      <td>0.973013</td>\n",
       "      <td>00:00</td>\n",
       "    </tr>\n",
       "    <tr>\n",
       "      <td>12</td>\n",
       "      <td>0.021745</td>\n",
       "      <td>0.031426</td>\n",
       "      <td>0.973503</td>\n",
       "      <td>00:00</td>\n",
       "    </tr>\n",
       "    <tr>\n",
       "      <td>13</td>\n",
       "      <td>0.021041</td>\n",
       "      <td>0.030334</td>\n",
       "      <td>0.973503</td>\n",
       "      <td>00:00</td>\n",
       "    </tr>\n",
       "    <tr>\n",
       "      <td>14</td>\n",
       "      <td>0.020424</td>\n",
       "      <td>0.029385</td>\n",
       "      <td>0.973994</td>\n",
       "      <td>00:00</td>\n",
       "    </tr>\n",
       "    <tr>\n",
       "      <td>15</td>\n",
       "      <td>0.019877</td>\n",
       "      <td>0.028547</td>\n",
       "      <td>0.975466</td>\n",
       "      <td>00:00</td>\n",
       "    </tr>\n",
       "    <tr>\n",
       "      <td>16</td>\n",
       "      <td>0.019388</td>\n",
       "      <td>0.027802</td>\n",
       "      <td>0.976938</td>\n",
       "      <td>00:00</td>\n",
       "    </tr>\n",
       "    <tr>\n",
       "      <td>17</td>\n",
       "      <td>0.018946</td>\n",
       "      <td>0.027133</td>\n",
       "      <td>0.977920</td>\n",
       "      <td>00:00</td>\n",
       "    </tr>\n",
       "    <tr>\n",
       "      <td>18</td>\n",
       "      <td>0.018545</td>\n",
       "      <td>0.026529</td>\n",
       "      <td>0.977920</td>\n",
       "      <td>00:00</td>\n",
       "    </tr>\n",
       "    <tr>\n",
       "      <td>19</td>\n",
       "      <td>0.018177</td>\n",
       "      <td>0.025982</td>\n",
       "      <td>0.977920</td>\n",
       "      <td>00:00</td>\n",
       "    </tr>\n",
       "    <tr>\n",
       "      <td>20</td>\n",
       "      <td>0.017839</td>\n",
       "      <td>0.025482</td>\n",
       "      <td>0.978901</td>\n",
       "      <td>00:00</td>\n",
       "    </tr>\n",
       "    <tr>\n",
       "      <td>21</td>\n",
       "      <td>0.017526</td>\n",
       "      <td>0.025026</td>\n",
       "      <td>0.978901</td>\n",
       "      <td>00:00</td>\n",
       "    </tr>\n",
       "    <tr>\n",
       "      <td>22</td>\n",
       "      <td>0.017234</td>\n",
       "      <td>0.024606</td>\n",
       "      <td>0.979882</td>\n",
       "      <td>00:00</td>\n",
       "    </tr>\n",
       "    <tr>\n",
       "      <td>23</td>\n",
       "      <td>0.016962</td>\n",
       "      <td>0.024220</td>\n",
       "      <td>0.980373</td>\n",
       "      <td>00:00</td>\n",
       "    </tr>\n",
       "    <tr>\n",
       "      <td>24</td>\n",
       "      <td>0.016708</td>\n",
       "      <td>0.023863</td>\n",
       "      <td>0.981354</td>\n",
       "      <td>00:00</td>\n",
       "    </tr>\n",
       "    <tr>\n",
       "      <td>25</td>\n",
       "      <td>0.016468</td>\n",
       "      <td>0.023533</td>\n",
       "      <td>0.981354</td>\n",
       "      <td>00:00</td>\n",
       "    </tr>\n",
       "    <tr>\n",
       "      <td>26</td>\n",
       "      <td>0.016243</td>\n",
       "      <td>0.023226</td>\n",
       "      <td>0.981354</td>\n",
       "      <td>00:00</td>\n",
       "    </tr>\n",
       "    <tr>\n",
       "      <td>27</td>\n",
       "      <td>0.016030</td>\n",
       "      <td>0.022941</td>\n",
       "      <td>0.981354</td>\n",
       "      <td>00:00</td>\n",
       "    </tr>\n",
       "    <tr>\n",
       "      <td>28</td>\n",
       "      <td>0.015829</td>\n",
       "      <td>0.022676</td>\n",
       "      <td>0.981845</td>\n",
       "      <td>00:00</td>\n",
       "    </tr>\n",
       "    <tr>\n",
       "      <td>29</td>\n",
       "      <td>0.015638</td>\n",
       "      <td>0.022429</td>\n",
       "      <td>0.981845</td>\n",
       "      <td>00:00</td>\n",
       "    </tr>\n",
       "    <tr>\n",
       "      <td>30</td>\n",
       "      <td>0.015457</td>\n",
       "      <td>0.022199</td>\n",
       "      <td>0.982826</td>\n",
       "      <td>00:00</td>\n",
       "    </tr>\n",
       "    <tr>\n",
       "      <td>31</td>\n",
       "      <td>0.015285</td>\n",
       "      <td>0.021983</td>\n",
       "      <td>0.982826</td>\n",
       "      <td>00:00</td>\n",
       "    </tr>\n",
       "    <tr>\n",
       "      <td>32</td>\n",
       "      <td>0.015121</td>\n",
       "      <td>0.021782</td>\n",
       "      <td>0.982826</td>\n",
       "      <td>00:00</td>\n",
       "    </tr>\n",
       "    <tr>\n",
       "      <td>33</td>\n",
       "      <td>0.014964</td>\n",
       "      <td>0.021593</td>\n",
       "      <td>0.983317</td>\n",
       "      <td>00:00</td>\n",
       "    </tr>\n",
       "    <tr>\n",
       "      <td>34</td>\n",
       "      <td>0.014815</td>\n",
       "      <td>0.021416</td>\n",
       "      <td>0.982826</td>\n",
       "      <td>00:00</td>\n",
       "    </tr>\n",
       "    <tr>\n",
       "      <td>35</td>\n",
       "      <td>0.014672</td>\n",
       "      <td>0.021249</td>\n",
       "      <td>0.982826</td>\n",
       "      <td>00:00</td>\n",
       "    </tr>\n",
       "    <tr>\n",
       "      <td>36</td>\n",
       "      <td>0.014535</td>\n",
       "      <td>0.021091</td>\n",
       "      <td>0.982336</td>\n",
       "      <td>00:00</td>\n",
       "    </tr>\n",
       "    <tr>\n",
       "      <td>37</td>\n",
       "      <td>0.014403</td>\n",
       "      <td>0.020943</td>\n",
       "      <td>0.982336</td>\n",
       "      <td>00:00</td>\n",
       "    </tr>\n",
       "    <tr>\n",
       "      <td>38</td>\n",
       "      <td>0.014276</td>\n",
       "      <td>0.020802</td>\n",
       "      <td>0.982336</td>\n",
       "      <td>00:00</td>\n",
       "    </tr>\n",
       "    <tr>\n",
       "      <td>39</td>\n",
       "      <td>0.014154</td>\n",
       "      <td>0.020669</td>\n",
       "      <td>0.982336</td>\n",
       "      <td>00:00</td>\n",
       "    </tr>\n",
       "  </tbody>\n",
       "</table>"
      ],
      "text/plain": [
       "<IPython.core.display.HTML object>"
      ]
     },
     "metadata": {},
     "output_type": "display_data"
    }
   ],
   "source": [
    "#collapse-output\n",
    "simple_net = nn.Sequential(nn.Linear(28*28,30), \n",
    "                           nn.ReLU(), \n",
    "                           nn.Linear(30,1))\n",
    "\n",
    "learn = Learner(dls, simple_net, loss_func=mnist_loss\n",
    "                  , opt_func=SGD\n",
    "                  , metrics=batch_accuracy)\n",
    "\n",
    "\n",
    "learn.fit(n_epoch=40, lr=0.1)"
   ]
  },
  {
   "cell_type": "markdown",
   "id": "official-sandwich",
   "metadata": {},
   "source": [
    "learn.recorder records the output from the training process. The three items recorded here are train_loss, valid_loss and batch_accuracy"
   ]
  },
  {
   "cell_type": "code",
   "execution_count": null,
   "id": "hollow-senator",
   "metadata": {},
   "outputs": [
    {
     "data": {
      "text/plain": [
       "[(#3) [0.334276407957077,0.39761149883270264,0.5103042125701904],\n",
       " (#3) [0.1537560522556305,0.2359904646873474,0.7958782911300659]]"
      ]
     },
     "execution_count": null,
     "metadata": {},
     "output_type": "execute_result"
    }
   ],
   "source": [
    "learn.recorder.values[:2]"
   ]
  },
  {
   "cell_type": "markdown",
   "id": "productive-foster",
   "metadata": {},
   "source": [
    "Plot how the accuracy evolved during the training."
   ]
  },
  {
   "cell_type": "code",
   "execution_count": null,
   "id": "crazy-brass",
   "metadata": {},
   "outputs": [
    {
     "data": {
      "text/plain": [
       "[<matplotlib.lines.Line2D>]"
      ]
     },
     "execution_count": null,
     "metadata": {},
     "output_type": "execute_result"
    },
    {
     "data": {
      "image/png": "[encoded data removed]",
      "text/plain": [
       "<Figure size 432x288 with 1 Axes>"
      ]
     },
     "metadata": {
      "needs_background": "light"
     },
     "output_type": "display_data"
    }
   ],
   "source": [
    "plt.plot(L(learn.recorder.values).itemgot(2))"
   ]
  },
  {
   "cell_type": "markdown",
   "id": "lyric-danger",
   "metadata": {},
   "source": [
    "The final accuracy is as below:"
   ]
  },
  {
   "cell_type": "code",
   "execution_count": null,
   "id": "invalid-reduction",
   "metadata": {},
   "outputs": [
    {
     "data": {
      "text/plain": [
       "0.98233562707901"
      ]
     },
     "execution_count": null,
     "metadata": {},
     "output_type": "execute_result"
    }
   ],
   "source": [
    "learn.recorder.values[-1][2]"
   ]
  }
 ],
 "metadata": {
  "kernelspec": {
   "display_name": "Python 3 (ipykernel)",
   "language": "python",
   "name": "python3"
  }
 },
 "nbformat": 4,
 "nbformat_minor": 5
}
