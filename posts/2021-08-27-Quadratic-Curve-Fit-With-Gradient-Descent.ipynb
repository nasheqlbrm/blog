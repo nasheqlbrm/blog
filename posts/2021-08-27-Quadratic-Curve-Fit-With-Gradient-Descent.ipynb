{
 "cells": [
  {
   "cell_type": "raw",
   "metadata": {},
   "source": [
    "---\n",
    "aliases:\n",
    "- /fastai/jupyter/2021/08/27/Quadratic-Curve-Fit-With-Gradient-Descent\n",
    "badges: true\n",
    "categories:\n",
    "- fastai\n",
    "- jupyter\n",
    "date: '2021-08-27'\n",
    "description: Example of using gradient descent to fit data.\n",
    "output-file: 2021-08-27-quadratic-curve-fit-with-gradient-descent.html\n",
    "title: Quadratic Curve Fit with Gradient Descent\n",
    "toc: true\n",
    "use_math: true\n",
    "\n",
    "---\n",
    "\n"
   ]
  },
  {
   "cell_type": "markdown",
   "id": "actual-ranch",
   "metadata": {},
   "source": [
    "# Motivation\n",
    "Someone walks up to you and hands over a simple data set of x and y coordinates. You eyeball it and think, \"hmm seems like we can fit a quadratic function to this\". This post walks through how this can be done using gradient descent (and follows the treatment in Chapter 4 of {% cite fastbook2020 %}). "
   ]
  },
  {
   "cell_type": "code",
   "execution_count": 1,
   "id": "hourly-charge",
   "metadata": {},
   "outputs": [],
   "source": [
    "from fastai.imports import *\n",
    "from fastai.torch_imports import *\n",
    "from fastai.torch_core import *"
   ]
  },
  {
   "cell_type": "code",
   "execution_count": 2,
   "id": "chemical-basis",
   "metadata": {},
   "outputs": [
    {
     "data": {
      "text/plain": [
       "tensor([ 0.,  1.,  2.,  3.,  4.,  5.,  6.,  7.,  8.,  9., 10., 11., 12., 13.,\n",
       "        14., 15., 16., 17., 18., 19.])"
      ]
     },
     "execution_count": 2,
     "metadata": {},
     "output_type": "execute_result"
    }
   ],
   "source": [
    "num_points = 20\n",
    "x = torch.arange(0,num_points).float()\n",
    "x"
   ]
  },
  {
   "cell_type": "code",
   "execution_count": 3,
   "id": "informed-helen",
   "metadata": {},
   "outputs": [
    {
     "data": {
      "text/plain": [
       "(tensor([68.6996, 53.2421, 43.1072, 35.0240, 18.7474, 20.2123,  4.7285,  7.6421,\n",
       "          0.6463, -0.4163, -3.0223,  5.8641,  4.2702, 12.0058, 16.8083, 20.2149,\n",
       "         32.4927, 41.8890, 59.8105, 63.5625]),\n",
       " -14.25,\n",
       " 67.6875)"
      ]
     },
     "execution_count": 3,
     "metadata": {},
     "output_type": "execute_result"
    }
   ],
   "source": [
    "d = 0.75\n",
    "e = 9.5\n",
    "noise = 1 + torch.randn(num_points)*3\n",
    "y =  d*(x-e)**2 + noise\n",
    "y, -2*d*e, d*(e**2)"
   ]
  },
  {
   "cell_type": "markdown",
   "id": "gothic-advertiser",
   "metadata": {},
   "source": [
    "Since $d(x-e)^{2} = d*(x^{2} -2ex + e^{2}) = dx^{2} - 2dex + d*e^{2}$ we expect to see the parameters $d$, $-2*d*e$ and $\\approx 1+d*e^{2}$ being uncovered. The last term is because we are adding a $1$ in the noise."
   ]
  },
  {
   "cell_type": "markdown",
   "id": "posted-personal",
   "metadata": {},
   "source": [
    "The data then looks like the following"
   ]
  },
  {
   "cell_type": "code",
   "execution_count": 4,
   "id": "pharmaceutical-forwarding",
   "metadata": {},
   "outputs": [
    {
     "data": {
      "text/plain": [
       "<matplotlib.collections.PathCollection at 0x7fedd0a1e410>"
      ]
     },
     "execution_count": 4,
     "metadata": {},
     "output_type": "execute_result"
    },
    {
     "data": {
      "image/png": "[encoded data removed]",
      "text/plain": [
       "<Figure size 432x288 with 1 Axes>"
      ]
     },
     "metadata": {
      "needs_background": "light"
     },
     "output_type": "display_data"
    }
   ],
   "source": [
    "plt.scatter(x,y)"
   ]
  },
  {
   "cell_type": "markdown",
   "id": "complex-aside",
   "metadata": {},
   "source": [
    "# Recipe\n",
    "## Initialize the parameters\n",
    "We need three parameters to describe a quadratic $ax^{2}+bx +c$"
   ]
  },
  {
   "cell_type": "code",
   "execution_count": 5,
   "id": "first-startup",
   "metadata": {},
   "outputs": [],
   "source": [
    "params = torch.randn(3).requires_grad_()"
   ]
  },
  {
   "cell_type": "markdown",
   "id": "institutional-satin",
   "metadata": {},
   "source": [
    "## Calculate the predictions\n",
    "We create a function where we can plug in our input features ($x$ coordinate values in this case) and get a prediction for the $y$. The function below will do just that."
   ]
  },
  {
   "cell_type": "code",
   "execution_count": 6,
   "id": "forced-maryland",
   "metadata": {},
   "outputs": [],
   "source": [
    "def f(x, params):\n",
    "    a,b,c=params\n",
    "    return a*(x**2) + b*x + c"
   ]
  },
  {
   "cell_type": "markdown",
   "id": "monetary-decrease",
   "metadata": {},
   "source": [
    "The predictions, yhat, can then be obtained using"
   ]
  },
  {
   "cell_type": "code",
   "execution_count": 7,
   "id": "separated-effort",
   "metadata": {},
   "outputs": [
    {
     "data": {
      "text/plain": [
       "tensor([-1.0763e-01, -9.4094e-01, -4.0345e+00, -9.3884e+00, -1.7002e+01,\n",
       "        -2.6877e+01, -3.9011e+01, -5.3406e+01, -7.0062e+01, -8.8977e+01,\n",
       "        -1.1015e+02, -1.3359e+02, -1.5928e+02, -1.8724e+02, -2.1746e+02,\n",
       "        -2.4994e+02, -2.8467e+02, -3.2167e+02, -3.6093e+02, -4.0245e+02],\n",
       "       grad_fn=<AddBackward0>)"
      ]
     },
     "execution_count": 7,
     "metadata": {},
     "output_type": "execute_result"
    }
   ],
   "source": [
    "yhat = f(x, params)\n",
    "yhat"
   ]
  },
  {
   "cell_type": "markdown",
   "id": "unsigned-lawyer",
   "metadata": {},
   "source": [
    "Compare predictions to the data"
   ]
  },
  {
   "cell_type": "code",
   "execution_count": 8,
   "id": "young-rehabilitation",
   "metadata": {},
   "outputs": [
    {
     "data": {
      "text/plain": [
       "<matplotlib.collections.PathCollection at 0x7fedd08d03d0>"
      ]
     },
     "execution_count": 8,
     "metadata": {},
     "output_type": "execute_result"
    },
    {
     "data": {
      "image/png": "[encoded data removed]",
      "text/plain": [
       "<Figure size 432x288 with 1 Axes>"
      ]
     },
     "metadata": {
      "needs_background": "light"
     },
     "output_type": "display_data"
    }
   ],
   "source": [
    "plt.scatter(x, y)\n",
    "plt.scatter(x, to_np(yhat), color = 'red')"
   ]
  },
  {
   "cell_type": "markdown",
   "id": "signal-convertible",
   "metadata": {},
   "source": [
    "## Calculate the loss\n",
    "We will use mean squared error for this."
   ]
  },
  {
   "cell_type": "code",
   "execution_count": 9,
   "id": "prompt-mitchell",
   "metadata": {},
   "outputs": [],
   "source": [
    "def mse(yhat, y):\n",
    "    return ((yhat-y)**2).mean()"
   ]
  },
  {
   "cell_type": "code",
   "execution_count": 10,
   "id": "tracked-fundamentals",
   "metadata": {},
   "outputs": [
    {
     "data": {
      "text/plain": [
       "tensor(44301.6484, grad_fn=<MeanBackward0>)"
      ]
     },
     "execution_count": 10,
     "metadata": {},
     "output_type": "execute_result"
    }
   ],
   "source": [
    "loss = mse(yhat, y)\n",
    "loss"
   ]
  },
  {
   "cell_type": "markdown",
   "id": "piano-destination",
   "metadata": {},
   "source": [
    "## Calculate the gradients"
   ]
  },
  {
   "cell_type": "code",
   "execution_count": 11,
   "id": "ranking-valuation",
   "metadata": {},
   "outputs": [],
   "source": [
    "loss.backward()"
   ]
  },
  {
   "cell_type": "code",
   "execution_count": 12,
   "id": "julian-carolina",
   "metadata": {},
   "outputs": [
    {
     "data": {
      "text/plain": [
       "tensor([-70097.9297,  -4488.5391,   -324.2715])"
      ]
     },
     "execution_count": 12,
     "metadata": {},
     "output_type": "execute_result"
    }
   ],
   "source": [
    "params.grad"
   ]
  },
  {
   "cell_type": "markdown",
   "id": "southwest-socket",
   "metadata": {},
   "source": [
    "## Take a gradient descent step\n",
    "Set a learning rate, lr, and then do a step like so"
   ]
  },
  {
   "cell_type": "code",
   "execution_count": 13,
   "id": "artistic-internet",
   "metadata": {},
   "outputs": [],
   "source": [
    "lr = 1e-5\n",
    "params.data -= lr*params.grad.data\n",
    "params.grad = None"
   ]
  },
  {
   "cell_type": "markdown",
   "id": "mechanical-contractor",
   "metadata": {},
   "source": [
    "Get a new prediction and plot again."
   ]
  },
  {
   "cell_type": "code",
   "execution_count": 14,
   "id": "regular-submission",
   "metadata": {},
   "outputs": [
    {
     "data": {
      "text/plain": [
       "<matplotlib.collections.PathCollection at 0x7fedd004f350>"
      ]
     },
     "execution_count": 14,
     "metadata": {},
     "output_type": "execute_result"
    },
    {
     "data": {
      "image/png": "[encoded data removed]",
      "text/plain": [
       "<Figure size 432x288 with 1 Axes>"
      ]
     },
     "metadata": {
      "needs_background": "light"
     },
     "output_type": "display_data"
    }
   ],
   "source": [
    "plt.scatter(x, y)\n",
    "plt.scatter(x, to_np(f(x,params)), color = 'red')"
   ]
  },
  {
   "cell_type": "markdown",
   "id": "oriented-beauty",
   "metadata": {},
   "source": [
    "# All together  now\n",
    "Not much changed when we took a single gradient step so we will want to do this for multiple iterations. Before doing that we make a simple function, called ```step```, that will apply all of the ingredients of the recipe."
   ]
  },
  {
   "cell_type": "code",
   "execution_count": 15,
   "id": "frequent-remedy",
   "metadata": {},
   "outputs": [],
   "source": [
    "def step(params, lr=1e-5, prn=True):\n",
    "    yhat = f(x, params)\n",
    "    loss = mse(yhat, y)\n",
    "    \n",
    "    loss.backward()\n",
    "    \n",
    "    params.data -= lr*params.grad.data\n",
    "    params.grad = None\n",
    "    \n",
    "    if prn: print(loss.item(), params)\n",
    "    return yhat"
   ]
  },
  {
   "cell_type": "markdown",
   "id": "handled-stone",
   "metadata": {},
   "source": [
    "And then another function that will call the ```step``` function as many times as we desire."
   ]
  },
  {
   "cell_type": "code",
   "execution_count": 16,
   "id": "imposed-color",
   "metadata": {},
   "outputs": [],
   "source": [
    "def learner(num_iterations, record_interval, lr):\n",
    "    preds_list = []\n",
    "    params_list = []\n",
    "    for i in range(num_iterations):\n",
    "        prn = i % record_interval == 0\n",
    "        preds = step(params, lr, prn)\n",
    "        if prn: \n",
    "            preds_list.append(preds)\n",
    "            params_list.append(params.detach().clone())\n",
    "    return preds_list, params_list"
   ]
  },
  {
   "cell_type": "markdown",
   "id": "cosmetic-generation",
   "metadata": {},
   "source": [
    "We will run $1,000,000$ iterations and record results every $100,000$ iterations. The first item is the loss and the second are the parameters $a,b$ and $c$ that define the quadratic we want to uncover/recover."
   ]
  },
  {
   "cell_type": "code",
   "execution_count": 17,
   "id": "healthy-jerusalem",
   "metadata": {},
   "outputs": [
    {
     "name": "stdout",
     "output_type": "stream",
     "text": [
      "8900.236328125 tensor([-0.1242,  0.3612, -0.1029], requires_grad=True)\n",
      "382.91522216796875 tensor([ 0.2762, -3.2625, 15.3551], requires_grad=True)\n",
      "231.8618621826172 tensor([ 0.3839, -5.7625, 27.3517], requires_grad=True)\n",
      "141.83514404296875 tensor([ 0.4671, -7.6927, 36.6108], requires_grad=True)\n",
      "88.12383270263672 tensor([ 0.5312, -9.1819, 43.7649], requires_grad=True)\n",
      "56.144981384277344 tensor([  0.5809, -10.3335,  49.2795], requires_grad=True)\n",
      "37.080955505371094 tensor([  0.6190, -11.2180,  53.5353], requires_grad=True)\n",
      "25.659448623657227 tensor([  0.6487, -11.9067,  56.8358], requires_grad=True)\n",
      "18.909128189086914 tensor([  0.6714, -12.4334,  59.3597], requires_grad=True)\n",
      "14.805198669433594 tensor([  0.6891, -12.8450,  61.3470], requires_grad=True)\n"
     ]
    }
   ],
   "source": [
    "preds_list, params_list = learner(1000000, 100000, 1e-5)"
   ]
  },
  {
   "cell_type": "markdown",
   "id": "cathedral-testimony",
   "metadata": {},
   "source": [
    "Next we plot what our best estimate of the quadratic function looked like at every $100,000$ iterations."
   ]
  },
  {
   "cell_type": "code",
   "execution_count": 18,
   "id": "immune-variety",
   "metadata": {},
   "outputs": [
    {
     "data": {
      "image/png": "[encoded data removed]",
      "text/plain": [
       "<Figure size 1728x216 with 10 Axes>"
      ]
     },
     "metadata": {
      "needs_background": "light"
     },
     "output_type": "display_data"
    }
   ],
   "source": [
    "num_preds = len(preds_list)\n",
    "_, axs = plt.subplots(1, num_preds, figsize=(24,3))\n",
    "for j in range(num_preds):\n",
    "    \n",
    "    a,b,c = params_list[j]\n",
    "    dhat = a\n",
    "    ehat = -1*b/(2*a)\n",
    "    \n",
    "    axs[j].scatter(x, y)\n",
    "    axs[j].scatter(x, to_np(preds_list[j]), color='red')\n",
    "    \n",
    "    axs[j].set_title(f'd={dhat:3.3f} e={ehat:3.3f}')\n",
    "    \n",
    "plt.tight_layout()"
   ]
  },
  {
   "cell_type": "markdown",
   "id": "complimentary-train",
   "metadata": {},
   "source": [
    "The captions on each plot provide an estimate of $d$ and $e$. At the end of one million iterations we have $\\hat{d} = 0.689$ and $\\hat{e}=9.32$. \n",
    "\n",
    "Recall that we generated the input data using $d=0.75$ and $e=9.5$."
   ]
  },
  {
   "cell_type": "markdown",
   "id": "greenhouse-dividend",
   "metadata": {},
   "source": [
    "# References\n",
    "{% bibliography --cited %}"
   ]
  }
 ],
 "metadata": {
  "kernelspec": {
   "display_name": "Python 3",
   "language": "python",
   "name": "python3"
  },
  "language_info": {
   "codemirror_mode": {
    "name": "ipython",
    "version": 3
   },
   "file_extension": ".py",
   "mimetype": "text/x-python",
   "name": "python",
   "nbconvert_exporter": "python",
   "pygments_lexer": "ipython3",
   "version": "3.7.10"
  }
 },
 "nbformat": 4,
 "nbformat_minor": 5
}
