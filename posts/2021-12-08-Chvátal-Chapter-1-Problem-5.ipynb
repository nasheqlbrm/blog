{
 "cells": [
  {
   "cell_type": "raw",
   "metadata": {},
   "source": [
    "---\n",
    "aliases:\n",
    "- \"/jupyter/math-program/2021/12/08/Chva\\u0301tal-Chapter-1-Problem-5\"\n",
    "badges: true\n",
    "categories:\n",
    "- math-program\n",
    "- jupyter\n",
    "date: '2021-12-08'\n",
    "output-file: \"2021-12-08-chva\\u0301tal-chapter-1-problem-5.html\"\n",
    "title: \"Chv\\xE1tal Chapter 1 Problem 5\"\n",
    "toc: false\n",
    "use_math: true\n",
    "\n",
    "---\n",
    "\n"
   ]
  },
  {
   "cell_type": "markdown",
   "metadata": {
    "id": "GGADfO9UWOX4"
   },
   "source": [
    "#hide\n",
    "# The following renders fine as a markdown cell in Jupyter but not when said notebook is rendered by fastpages\n",
    "# So I used https://latexeditor.lagrida.com to render the equation take a screenshot and then put it in the page :(\n",
    "'''\n",
    "\\begin{eqnarray*}\n",
    "\\text{maximize} \\sum_{j=1}^{n}c_{j}x_{j} \\\\\n",
    "\\text{subject to } \\sum_{j=1}^{n}a_{ij}x_{j} &\\leq b_{i} \\quad (i=1,\\ldots,m) \\\\\n",
    "x_{j} &\\geq 0 \\quad(j=1,\\ldots,n) \n",
    "\\end{eqnarray*}\n",
    "'''"
   ]
  },
  {
   "cell_type": "markdown",
   "metadata": {
    "id": "GZxFc4gQpDEw"
   },
   "source": [
    "# Problem Statement\n",
    "\n",
    "From (page 10 Chapter 1) of {% cite chvatal1983linear %}."
   ]
  },
  {
   "cell_type": "markdown",
   "metadata": {
    "id": "QLILzNo-Wt3i"
   },
   "source": [
    "Problem 1.7\n",
    "<div>\n",
    "<img src=\"https://github.com/nasheqlbrm/blog/blob/master/images/chvatal_1dot7.png?raw=1\" width=\"300\"/>\n",
    "</div>"
   ]
  },
  {
   "cell_type": "markdown",
   "metadata": {
    "id": "a8LndeWNao_3"
   },
   "source": [
    "#hide\n",
    "'''\n",
    "\\begin{eqnarray*}\n",
    "\\max x_{k} \\\\\n",
    "\\text{subject to } \\sum_{j=1}^{n}a_{ij}x_{j} &\\leq b_{i} \\quad (i=1,\\ldots,m) \\\\\n",
    "x_{j} &\\geq 0 \\quad(j=1,\\ldots,n) \n",
    "\\end{eqnarray*}\n",
    "'''"
   ]
  },
  {
   "cell_type": "markdown",
   "metadata": {
    "id": "66bgIZ_HXvUx"
   },
   "source": [
    "Prove or disprove: If Problem 1.7 above is unbounded, then there is a subscript $k$ such that the Problem 1.5 below is unbounded."
   ]
  },
  {
   "cell_type": "markdown",
   "metadata": {
    "id": "-bogW7RwYpuW"
   },
   "source": [
    "Problem 1.5\n",
    "<div>\n",
    "<img src=\"https://github.com/nasheqlbrm/blog/blob/master/images/chvatal_chapter1_problem5.png?raw=1\" width=\"300\"/>\n",
    "</div>\n"
   ]
  },
  {
   "cell_type": "markdown",
   "metadata": {
    "id": "7Emt5kzejQMQ"
   },
   "source": [
    "# Proof\n",
    "\n",
    "Assume without loss of generality that the objective function coefficients $c_{j}$ of all decision variables, $x_{j}$, in Problem 1.7 are non-zero.\n",
    "\n",
    "We see that Problem 1.5 defines $n$ sub-problems, one for each decision variable $x_k$ in Problem 1.7. Now, suppose there is no subscript $k$ for which the sub-problems are unbounded. This means we can identify constants $M_{1},\\ldots,M_{n}$ which are the maximum objective function values for each sub-problem in Problem 1.5. So, for example, $M_1$ is the largest value $x_{1}$ can take while still staying feasible.\n",
    "\n",
    "Next, let $I_{c_{j} \\gt 0}$ be an indicator function that tells us with a one or a zero whether the coefficient of decision variable $x_{j}$ in the objective function of Problem 1.7 is strictly positive.\n",
    "\n",
    "Now we claim that $M=\\sum_{j=1}^{n}c_{j}I_{c_{j} \\gt 0}M_{j}$ is the greatest upper bound on the objective function of Problem 1.7. \n",
    "\n",
    "It is possible that if some objective function coefficient $c_{l}$ is negative that a more accurate upper bound can be obtained by solving a minimization version of Problem 1.5. Solving this minimization would give us the smallest $x_{l}$ for which the problem remains feasible. But since $c_{l} \\lt 0$ having $x_{l} >0$ will only serve to reduce $\\sum_{j=1}^{n}c_{j}x_{j}$.\n",
    "\n",
    "What this means is that $M$ is the greatest upper bound on the objective function of Problem 1.7.\n",
    "\n",
    "However, the existence of a finite upper bound contradicts the unboundedness of Problem 1.7 since for an unbounded problem we can always find a feasible solution such that $\\sum_{j=1}^{n}c_{j}x_{j} \\gt M$ for any value of $M$."
   ]
  },
  {
   "cell_type": "code",
   "execution_count": null,
   "metadata": {
    "id": "E9I9UNTWj6xA"
   },
   "outputs": [],
   "source": []
  },
  {
   "cell_type": "markdown",
   "metadata": {
    "id": "kofM5x3Tacfp"
   },
   "source": [
    "# References\n",
    "{% bibliography --cited %}"
   ]
  }
 ],
 "metadata": {
  "colab": {
   "collapsed_sections": [],
   "name": "2021-12-08-Chvátal-Chapter-1-Problem-5.ipynb",
   "provenance": []
  },
  "kernelspec": {
   "display_name": "Python 3",
   "name": "python3"
  },
  "language_info": {
   "name": "python"
  }
 },
 "nbformat": 4,
 "nbformat_minor": 0
}
