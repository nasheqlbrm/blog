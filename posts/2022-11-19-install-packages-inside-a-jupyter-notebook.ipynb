{
 "cells": [
  {
   "cell_type": "markdown",
   "id": "cb5eddda",
   "metadata": {},
   "source": [
    "---\n",
    "categories: [TIL]\n",
    "date: '2022-11-19'\n",
    "description: Dealing with _Import Error$:$ No module named Name_\n",
    "output-file: 2022-11-19-install-packages-inside-a-jupyter-notebook.html\n",
    "title: TIL$:$ Installing Python packages inside Jupyter\n",
    "bibliography: ../references.bib\n",
    "toc: true\n",
    "use_math: true\n",
    "execute:\n",
    "    output: false\n",
    "\n",
    "---"
   ]
  },
  {
   "cell_type": "markdown",
   "id": "1a4cb8d6",
   "metadata": {},
   "source": [
    "The right way to install a package from within a Jupyter notebook. From [here](https://modelpredict.com/importing-packages-in-jupyter-notebook/):\n",
    "\n",
    "```python\n",
    "import sys\n",
    "\n",
    "# using conda\n",
    "!conda install --yes --prefix {sys.prefix} tensorflow\n",
    "\n",
    "# using pip\n",
    "!{sys.executable} -m pip install tensorflow\n",
    "```"
   ]
  },
  {
   "cell_type": "markdown",
   "id": "233a50b2",
   "metadata": {},
   "source": [
    "::: {.callout-note collapse=\"true\"}\n",
    "\n",
    "For this post, I ran into the following Quarto error when including the colon character in the description section of the preamble.\n",
    "\n",
    "![](../images/quarto_preview_error.png)\n",
    " \n",
    "What seems to work is enclosing the colon character with $ signs. So hooray $\\LaTeX\\xspace$!\n",
    ":::\n"
   ]
  },
  {
   "cell_type": "code",
   "execution_count": null,
   "id": "a985f24a",
   "metadata": {},
   "outputs": [],
   "source": []
  }
 ],
 "metadata": {
  "kernelspec": {
   "display_name": "Python 3 (ipykernel)",
   "language": "python",
   "name": "python3"
  }
 },
 "nbformat": 4,
 "nbformat_minor": 5
}
